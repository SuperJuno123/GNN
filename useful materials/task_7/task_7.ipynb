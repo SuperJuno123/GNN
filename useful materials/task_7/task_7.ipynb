{
  "cells": [
    {
      "cell_type": "code",
      "execution_count": 1,
      "metadata": {
        "id": "4lTm8ou85Tdf"
      },
      "outputs": [],
      "source": [
        "import os\n",
        "import numpy as np\n",
        "import pandas as pd\n",
        "import matplotlib.pyplot as plt\n",
        "from collections import namedtuple\n",
        "\n",
        "from statsmodels.tsa.stattools import adfuller\n",
        "\n",
        "import sklearn.metrics as metrics\n",
        "from sklearn.model_selection import train_test_split\n",
        "from sklearn.preprocessing import QuantileTransformer\n",
        "\n",
        "import torch\n",
        "import torch.nn as nn\n",
        "import torch.nn.functional as F\n",
        "\n",
        "# depending on your OS\n",
        "# --------------------\n",
        "from tqdm import trange,tqdm\n",
        "# from tqdm.notebook import trange,tqdm # works for Linux\n",
        "# --------------------\n",
        "\n",
        "from IPython.display import clear_output\n",
        "\n",
        "%matplotlib inline"
      ]
    },
    {
      "cell_type": "code",
      "source": [
        "%pip install catboost"
      ],
      "metadata": {
        "colab": {
          "base_uri": "https://localhost:8080/"
        },
        "id": "_gJf5dxI6WV0",
        "outputId": "fba10765-60ba-4ad1-b5ca-9213baaeeb2c"
      },
      "execution_count": 2,
      "outputs": [
        {
          "output_type": "stream",
          "name": "stdout",
          "text": [
            "Looking in indexes: https://pypi.org/simple, https://us-python.pkg.dev/colab-wheels/public/simple/\n",
            "Collecting catboost\n",
            "  Downloading catboost-1.1-cp37-none-manylinux1_x86_64.whl (76.8 MB)\n",
            "\u001b[K     |████████████████████████████████| 76.8 MB 1.2 MB/s \n",
            "\u001b[?25hRequirement already satisfied: plotly in /usr/local/lib/python3.7/dist-packages (from catboost) (5.5.0)\n",
            "Requirement already satisfied: pandas>=0.24.0 in /usr/local/lib/python3.7/dist-packages (from catboost) (1.3.5)\n",
            "Requirement already satisfied: scipy in /usr/local/lib/python3.7/dist-packages (from catboost) (1.7.3)\n",
            "Requirement already satisfied: numpy>=1.16.0 in /usr/local/lib/python3.7/dist-packages (from catboost) (1.21.6)\n",
            "Requirement already satisfied: six in /usr/local/lib/python3.7/dist-packages (from catboost) (1.15.0)\n",
            "Requirement already satisfied: matplotlib in /usr/local/lib/python3.7/dist-packages (from catboost) (3.2.2)\n",
            "Requirement already satisfied: graphviz in /usr/local/lib/python3.7/dist-packages (from catboost) (0.10.1)\n",
            "Requirement already satisfied: python-dateutil>=2.7.3 in /usr/local/lib/python3.7/dist-packages (from pandas>=0.24.0->catboost) (2.8.2)\n",
            "Requirement already satisfied: pytz>=2017.3 in /usr/local/lib/python3.7/dist-packages (from pandas>=0.24.0->catboost) (2022.4)\n",
            "Requirement already satisfied: cycler>=0.10 in /usr/local/lib/python3.7/dist-packages (from matplotlib->catboost) (0.11.0)\n",
            "Requirement already satisfied: pyparsing!=2.0.4,!=2.1.2,!=2.1.6,>=2.0.1 in /usr/local/lib/python3.7/dist-packages (from matplotlib->catboost) (3.0.9)\n",
            "Requirement already satisfied: kiwisolver>=1.0.1 in /usr/local/lib/python3.7/dist-packages (from matplotlib->catboost) (1.4.4)\n",
            "Requirement already satisfied: typing-extensions in /usr/local/lib/python3.7/dist-packages (from kiwisolver>=1.0.1->matplotlib->catboost) (4.1.1)\n",
            "Requirement already satisfied: tenacity>=6.2.0 in /usr/local/lib/python3.7/dist-packages (from plotly->catboost) (8.1.0)\n",
            "Installing collected packages: catboost\n",
            "Successfully installed catboost-1.1\n"
          ]
        }
      ]
    },
    {
      "cell_type": "code",
      "source": [
        "import catboost"
      ],
      "metadata": {
        "id": "foJw3Dxg6v4G"
      },
      "execution_count": 3,
      "outputs": []
    },
    {
      "cell_type": "code",
      "source": [
        "from google.colab import drive\n",
        "drive.mount('/content/drive')"
      ],
      "metadata": {
        "colab": {
          "base_uri": "https://localhost:8080/"
        },
        "id": "FZzX_Fm65zkQ",
        "outputId": "a1142c4d-7102-4cbf-ddf9-9bcd82799098"
      },
      "execution_count": 4,
      "outputs": [
        {
          "output_type": "stream",
          "name": "stdout",
          "text": [
            "Mounted at /content/drive\n"
          ]
        }
      ]
    },
    {
      "cell_type": "markdown",
      "metadata": {
        "id": "MAg9w9nr5Tdq"
      },
      "source": [
        "---"
      ]
    },
    {
      "cell_type": "code",
      "execution_count": 5,
      "metadata": {
        "id": "6oun_BMx5Tdu"
      },
      "outputs": [],
      "source": [
        "MDATA_PATH = '/content/drive/MyDrive/mdata'\n",
        "\n",
        "DEVICE = 'cpu' # you may try 'cuda' if your machine supports NVIDIA"
      ]
    },
    {
      "cell_type": "markdown",
      "metadata": {
        "id": "pMYJqTp65Tdv"
      },
      "source": [
        "---"
      ]
    },
    {
      "cell_type": "code",
      "execution_count": 6,
      "metadata": {
        "id": "RRHIL9Fh5Tdw"
      },
      "outputs": [],
      "source": [
        "def get_dates():\n",
        "    return sorted(os.listdir(MDATA_PATH))\n",
        "\n",
        "def get_tickers():\n",
        "    dates = get_dates()\n",
        "    tickers = []\n",
        "    for date in dates:\n",
        "        tickers += os.listdir(os.path.join(MDATA_PATH,date))\n",
        "    return np.unique(tickers)\n",
        "\n",
        "def get_market_data(ticker):\n",
        "    agg_mmf_data_raw = []\n",
        "    for date in get_dates():\n",
        "        if not os.path.exists(os.path.join(MDATA_PATH,date,ticker)):\n",
        "            continue\n",
        "        df = pd.read_csv(\n",
        "            os.path.join(MDATA_PATH,date,ticker),\n",
        "            compression='gzip',\n",
        "            dtype={'bar_time':float,'TIMESTAMP':float},\n",
        "            index_col=0,\n",
        "            parse_dates=[2,3],\n",
        "            date_parser=pd.to_datetime,\n",
        "        ).sort_values(by=['VOLUME','bar_count']).groupby('bar_time',as_index=False).last()\n",
        "        agg_mmf_data_raw.append(df)\n",
        "    agg_mmf_data_raw = pd.concat(agg_mmf_data_raw).set_index('bar_time').sort_index()\n",
        "    \n",
        "    agg_price_grid_raw = agg_mmf_data_raw.filter(like='PRICE_GRID')\n",
        "    agg_vol_grid_raw = agg_mmf_data_raw.filter(like='VOL_GRID')\n",
        "\n",
        "    agg_mmf_data_raw = agg_mmf_data_raw[ agg_mmf_data_raw.columns[(\n",
        "        ~agg_mmf_data_raw.columns.str.startswith('EXEC')\n",
        "        &\n",
        "        ~agg_mmf_data_raw.columns.str.startswith('PRICE_GRID')\n",
        "        &\n",
        "        ~agg_mmf_data_raw.columns.str.startswith('VOL_GRID')\n",
        "    )]]\n",
        "    agg_mmf_data_raw.drop([\n",
        "        'TIMESTAMP','ZERO_SPREAD_ON_TRADE','EMPTY_LOB_SIDE_AFTER_UPDATE','NEGATIVE_SPREAD_AFTER_UPDATE',\n",
        "        'ZERO_SPREAD_AFTER_UPDATE','EMPTY_LOB_SIDE_ON_TRADE','NEGATIVE_SPREAD_ON_TRADE','bar_count','WEEKDAY'\n",
        "    ],inplace=True,axis=1)\n",
        "    \n",
        "    return agg_mmf_data_raw,agg_price_grid_raw\n",
        "\n",
        "def get_adf_p_value(dtest):\n",
        "    dftest = adfuller(dtest, maxlag=10)\n",
        "    p_value = dftest[1]\n",
        "    return p_value\n",
        "\n",
        "def generate_features(mmf_data_raw,price_grid_raw,preserve_cols=['DVOL']):\n",
        "    dset = (mmf_data_raw.BEST_ASK/2 + mmf_data_raw.BEST_BID/2).to_frame('MID_PRICE') \n",
        "\n",
        "    dset['TG_Y'] =  (mmf_data_raw['VWAP'].shift(-2) - mmf_data_raw['VWAP'].shift(-1)) / mmf_data_raw['VWAP'].shift(-1)\n",
        "    \n",
        "    dset['R1_X'] =  (dset['MID_PRICE'] - dset['MID_PRICE'].shift(1)) * 100\n",
        "    dset['R2_X'] =  (dset['MID_PRICE'] - dset['MID_PRICE'].shift(2) ) * 100\n",
        "\n",
        "    dset['R1V_X'] =  (mmf_data_raw['VWAP'] - mmf_data_raw['VWAP'].shift(1)) * 100\n",
        "    dset['R2V_X'] =  (mmf_data_raw['VWAP'] - mmf_data_raw['VWAP'].shift(2) ) * 100\n",
        "    \n",
        "    dset['RVW_ema_X'] =  mmf_data_raw['VWAP'] - mmf_data_raw['VWAP'].ewm(halflife=8).mean()\n",
        "    dset['RVW_ema2_X'] =  mmf_data_raw['VWAP'].ewm(halflife=8).mean() - mmf_data_raw['VWAP'].ewm(halflife=16).mean()\n",
        "    dset['RVW_ema3_X'] =  mmf_data_raw['VWAP'].ewm(halflife=16).mean() - mmf_data_raw['VWAP'].ewm(halflife=32).mean()\n",
        "    dset['RVW_ema4_X'] =  mmf_data_raw['VWAP'].ewm(halflife=32).mean() - mmf_data_raw['VWAP'].ewm(halflife=64).mean()\n",
        "    \n",
        "    for col in preserve_cols:\n",
        "        dset[f\"{col}_X\"] = mmf_data_raw[col]\n",
        "    \n",
        "    dset['DVOL_EMA3_X'] = dset['DVOL_X'].ewm(halflife=3).mean()\n",
        "    dset['DVOL_EMA10_X'] = dset['DVOL_X'].ewm(halflife=10).mean()\n",
        "\n",
        "    dset['BTC_BID_VOL'] = price_grid_raw[['PRICE_GRID_0.991026', 'PRICE_GRID_0.993590', 'PRICE_GRID_0.996154', 'PRICE_GRID_0.998718']].sum(axis=1).abs()\n",
        "    dset['BTC_ASK_VOL'] = price_grid_raw[['PRICE_GRID_1.001282','PRICE_GRID_1.003846', 'PRICE_GRID_1.006410', 'PRICE_GRID_1.008974']].sum(axis=1).abs()\n",
        "    dset['OIR_X'] = (dset['BTC_BID_VOL'] - dset['BTC_ASK_VOL']) / (dset['BTC_BID_VOL'] + dset['BTC_ASK_VOL'])\n",
        "    \n",
        "    X, y = dset.filter(like='_X'), dset.filter(like='_Y')\n",
        "    return X,y\n"
      ]
    },
    {
      "cell_type": "markdown",
      "metadata": {
        "id": "BUIc-bV55Td4"
      },
      "source": [
        "---"
      ]
    },
    {
      "cell_type": "code",
      "execution_count": 7,
      "metadata": {
        "colab": {
          "base_uri": "https://localhost:8080/"
        },
        "id": "WHHZLOCC5Td6",
        "outputId": "c4649609-5c3a-48b4-81bf-9ea2ccbcae0d"
      },
      "outputs": [
        {
          "output_type": "stream",
          "name": "stdout",
          "text": [
            "['Z.ADA' 'Z.BNB' 'Z.BTC' 'Z.DOGE' 'Z.DOT' 'Z.ETC' 'Z.ETH' 'Z.FIL' 'Z.LINK'\n",
            " 'Z.LTC' 'Z.MATIC' 'Z.THETA' 'Z.UNI' 'Z.XRP']\n"
          ]
        }
      ],
      "source": [
        "tickers = get_tickers()\n",
        "print (tickers)"
      ]
    },
    {
      "cell_type": "code",
      "execution_count": 8,
      "metadata": {
        "id": "OdiUG3NM5Td-"
      },
      "outputs": [],
      "source": [
        "# SELECT ONE ON YOUR PREFERENCE\n",
        "ticker = 'Z.DOGE'"
      ]
    },
    {
      "cell_type": "code",
      "execution_count": 9,
      "metadata": {
        "id": "cl6_2SEb5TeA"
      },
      "outputs": [],
      "source": [
        "agg_mmf_data_raw,agg_price_grid_raw = get_market_data(ticker)\n",
        "\n",
        "# getting rid of the integrated time series, use with caution\n",
        "adf_test_p_value = agg_mmf_data_raw.aggregate(get_adf_p_value,axis=0)\n",
        "preserve_cols = adf_test_p_value.loc[lambda x: x<1e-4].index\n",
        "\n",
        "X_mmf,y_regr = generate_features(agg_mmf_data_raw,agg_price_grid_raw,preserve_cols=preserve_cols)\n",
        "y_regr = y_regr * 100\n",
        "nna_indices = X_mmf.notnull().min(axis=1) & agg_price_grid_raw.notnull().min(axis=1) & y_regr.notnull().min(axis=1)\n",
        "agg_mmf_data_raw,agg_price_grid_raw,X_mmf,y_regr = agg_mmf_data_raw[nna_indices],agg_price_grid_raw[nna_indices],X_mmf[nna_indices],y_regr[nna_indices]"
      ]
    },
    {
      "cell_type": "markdown",
      "metadata": {
        "id": "LZCPTk9U5TeC"
      },
      "source": [
        "---"
      ]
    },
    {
      "cell_type": "markdown",
      "metadata": {
        "id": "txCy-lCR5TeD"
      },
      "source": [
        "Splitting train / test , 70/30 \\\n",
        "Transfrom train and test features to quantiles"
      ]
    },
    {
      "cell_type": "code",
      "execution_count": 10,
      "metadata": {
        "id": "7Lk-yumr5TeF"
      },
      "outputs": [],
      "source": [
        "n_features = X_mmf.shape[1]\n",
        "X_train,X_test, y_train,y_test = train_test_split(X_mmf,y_regr,test_size=0.3,shuffle=False)\n",
        "\n",
        "qt = QuantileTransformer()\n",
        "X_train = qt.fit_transform(X_train)\n",
        "X_test = qt.transform(X_test)"
      ]
    },
    {
      "cell_type": "markdown",
      "metadata": {
        "id": "mZOWcsfA5TeG"
      },
      "source": [
        "---"
      ]
    },
    {
      "cell_type": "markdown",
      "metadata": {
        "id": "ZWwvr2Wn5TeG"
      },
      "source": [
        "# CatBoost regressor"
      ]
    },
    {
      "cell_type": "markdown",
      "metadata": {
        "id": "6HHCPK2W5TeG"
      },
      "source": [
        "We will use it as benchmark, i.e. compare our LSTM result with catboost result"
      ]
    },
    {
      "cell_type": "code",
      "execution_count": 11,
      "metadata": {
        "id": "5bRRztzR5TeH"
      },
      "outputs": [],
      "source": [
        "cb_regressor = catboost.CatBoostRegressor(depth=8)\n",
        "cb_regressor.fit(X_train,y_train,silent=True)\n",
        "\n",
        "y_train_pred_cb = cb_regressor.predict(X_train)\n",
        "y_test_pred_cb = cb_regressor.predict(X_test)\n",
        "\n",
        "cb_mse_error_train = metrics.mean_squared_error(y_train,y_train_pred_cb)\n",
        "cb_mse_error_test  = metrics.mean_squared_error(y_test,y_test_pred_cb)"
      ]
    },
    {
      "cell_type": "markdown",
      "metadata": {
        "id": "frBly40M5TeH"
      },
      "source": [
        "---"
      ]
    },
    {
      "cell_type": "markdown",
      "metadata": {
        "id": "nt3RejbW5TeI"
      },
      "source": [
        "# Define dataset"
      ]
    },
    {
      "cell_type": "markdown",
      "metadata": {
        "id": "72dNf_Gi5TeI"
      },
      "source": [
        "MMF stands for Market Microstructure Features"
      ]
    },
    {
      "cell_type": "code",
      "execution_count": 12,
      "metadata": {
        "id": "YUh5y0Qp5TeI"
      },
      "outputs": [],
      "source": [
        "# good idea to store all hyperparameters and experiment settings in a dedicated dictionary\n",
        "# this way you can store the dictionary in wandb and compare all the settings between several experiments\n",
        "\n",
        "mmf_params = dict(\n",
        "    hid_size1 = 128,\n",
        "    hid_size2 = 16,\n",
        "    batch_size = 128,\n",
        "    learning_rate = 1e-04,\n",
        "    episode_len = 128,\n",
        "    lstm_warm_up = 32\n",
        ")"
      ]
    },
    {
      "cell_type": "code",
      "execution_count": 13,
      "metadata": {
        "id": "Sgv__Jzc5TeJ"
      },
      "outputs": [],
      "source": [
        "# to properly pass our data to LSTM, we need to define how we will iterate through the dataset\n",
        "# to do that, we define a custom class derived from torch.utils.data.Dataset, and overwrite its __len__ and __getitem__ methods\n",
        "# these methods allow the dataset to be iterated in a way we need\n",
        "\n",
        "MMF_Episode = namedtuple('MMF_Episode', ['features', 'targets'])\n",
        "\n",
        "class MMF_Set(torch.utils.data.Dataset):\n",
        "    def __init__(self,X,y,episode_len):\n",
        "        super().__init__()\n",
        "        \n",
        "        self.feature_t =  torch.tensor(X, dtype=torch.float32, device=DEVICE) # transform X to tensor of type float32 and convert it to DEVICE\n",
        "        self.target_t  =  torch.tensor(y, dtype=torch.float32, device=DEVICE) # transform y to tensor of type float32 and convert it to DEVICE\n",
        "        self.n_ticks, self.n_features = X.shape\n",
        "        self.episode_len = episode_len\n",
        "\n",
        "    def __len__(self):\n",
        "        return self.n_ticks-self.episode_len+1\n",
        "    \n",
        "    # get i-th \"rolling window\"\n",
        "    def __getitem__(self,i):\n",
        "        return MMF_Episode(\n",
        "            features = self.feature_t[i:i+self.episode_len] , # get the slice of feature_t tensor from i to i+episode_len\n",
        "            targets =  self.target_t[i:i+self.episode_len] , # get the slice of target_t tensor from i to i+episode_len\n",
        "        )"
      ]
    },
    {
      "cell_type": "code",
      "execution_count": 14,
      "metadata": {
        "id": "uWXS-uP95TeJ"
      },
      "outputs": [],
      "source": [
        "mmf_train_feature_set = MMF_Set(X_train.copy(),pd.DataFrame(y_train).values,episode_len=mmf_params['episode_len'])"
      ]
    },
    {
      "cell_type": "markdown",
      "metadata": {
        "id": "4xck4vZ55TeK"
      },
      "source": [
        "For debugging purposes"
      ]
    },
    {
      "cell_type": "code",
      "execution_count": 15,
      "metadata": {
        "colab": {
          "base_uri": "https://localhost:8080/"
        },
        "id": "JR4QMf7a5TeK",
        "outputId": "b06a7dbe-398d-4690-a825-5b10ed41c374"
      },
      "outputs": [
        {
          "output_type": "execute_result",
          "data": {
            "text/plain": [
              "(torch.Size([20, 128, 33]), torch.Size([20, 128, 1]))"
            ]
          },
          "metadata": {},
          "execution_count": 15
        }
      ],
      "source": [
        "# torch format of the dataset\n",
        "# splitting to batches\n",
        "mmf_train_feature_set_t = torch.utils.data.DataLoader(mmf_train_feature_set,batch_size=20,shuffle=True,num_workers=0)\n",
        "\n",
        "mmf_item = next(iter(mmf_train_feature_set_t))\n",
        "\n",
        "# make sure this output is [n_batches, n_episodes, n_features], [n_batches, n_episodes, 1]\n",
        "mmf_item.features.shape, mmf_item.targets.shape"
      ]
    },
    {
      "cell_type": "markdown",
      "metadata": {
        "id": "-P5ToloI5TeL"
      },
      "source": [
        "---"
      ]
    },
    {
      "cell_type": "markdown",
      "metadata": {
        "id": "eMAti0zb5TeL"
      },
      "source": [
        "# Transforming data to torch-compatible format"
      ]
    },
    {
      "cell_type": "markdown",
      "metadata": {
        "id": "10QyU7I15TeL"
      },
      "source": [
        "we have to do this, because any nn.Module accepts only torch tensors as input"
      ]
    },
    {
      "cell_type": "code",
      "execution_count": 16,
      "metadata": {
        "id": "va6AQAza5TeM"
      },
      "outputs": [],
      "source": [
        "X_train_t = torch.tensor(X_train, dtype=torch.float32) # transform X_train to tensor of type float32\n",
        "X_test_t  = torch.tensor(X_test, dtype=torch.float32) # transform X_test to tensor of type float32\n",
        "\n",
        "y_train_t = torch.tensor(y_train.values, dtype=torch.float32) # transform y_train of size [n] to tensor of type float32 and shape [n,1]\n",
        "y_test_t  = torch.tensor(y_test.values, dtype=torch.float32) # transform y_test of size [n] to tensor of type float32 and shape [n,1]"
      ]
    },
    {
      "cell_type": "code",
      "execution_count": 17,
      "metadata": {
        "colab": {
          "base_uri": "https://localhost:8080/"
        },
        "id": "Fr3y34wg5TeM",
        "outputId": "54d31094-292c-475f-d686-377e711d55c0"
      },
      "outputs": [
        {
          "output_type": "execute_result",
          "data": {
            "text/plain": [
              "(torch.Size([232382, 33]), torch.Size([99593, 33]))"
            ]
          },
          "metadata": {},
          "execution_count": 17
        }
      ],
      "source": [
        "X_train_t.shape, X_test_t.shape"
      ]
    },
    {
      "cell_type": "markdown",
      "metadata": {
        "id": "P9m9s0dI5TeM"
      },
      "source": [
        "---"
      ]
    },
    {
      "cell_type": "markdown",
      "metadata": {
        "id": "ByYNQRVI5TeM"
      },
      "source": [
        "# Network definition"
      ]
    },
    {
      "cell_type": "code",
      "execution_count": 18,
      "metadata": {
        "id": "ERyeMNtI5TeN"
      },
      "outputs": [],
      "source": [
        "class MMF_LSTM(nn.Module):\n",
        "    def __init__(self,input_size,hid_size1,hid_size2):\n",
        "        super().__init__()\n",
        "        \n",
        "        self.lstm = nn.LSTM(input_size = input_size, hidden_size = hid_size1) # initialize a nn.LSTM object dealing with batches of input_size = input_size and hidden_size = hid_size1\n",
        "        \n",
        "        # the following part is in general of your own freedom of choice\n",
        "        # instead of what we propose, you may use just one linear transformation hid_size1 -> 1\n",
        "        \n",
        "        self.hid_to_hll = nn.Linear(in_features=hid_size1, out_features=hid_size2) # initialize linear transformation with #{input features} = hid_size1 and #{output_features} = hid_size2\n",
        "        self.hll_to_out = nn.Linear(in_features=hid_size2, out_features=1) # initialize linear transformation with #{input features} = hid_size2 and #{output features} = 1\n",
        "    \n",
        "    def forward(self,x):\n",
        "        # the forward pass has to be as follows:\n",
        "        # lstm -> first linear layer -> ReLU -> second linear layer\n",
        "        \n",
        "        x, _ = self.lstm(x) # get result of lstm network defined in constructor\n",
        "        x = self.hid_to_hll(x)\n",
        "        x = F.relu(x)\n",
        "        output = self.hll_to_out(x)\n",
        "\n",
        "        return output "
      ]
    },
    {
      "cell_type": "markdown",
      "metadata": {
        "id": "_huvjjW15TeN"
      },
      "source": [
        "---"
      ]
    },
    {
      "cell_type": "markdown",
      "metadata": {
        "id": "qUkSmlJT5TeN"
      },
      "source": [
        "# Main train loop"
      ]
    },
    {
      "cell_type": "code",
      "execution_count": 19,
      "metadata": {
        "id": "gSo1LQSs5TeN"
      },
      "outputs": [],
      "source": [
        "mmf_lstm_model = MMF_LSTM(input_size=n_features, hid_size1=mmf_params['hid_size1'], hid_size2=mmf_params['hid_size2']) # define LSTM object of our custom class with input size = n_features (variable from cell [7]) and hidden sizes from mmf_params\n",
        "mmf_loss_fn = nn.MSELoss() # define a criterion - mean squared error\n",
        "mmf_optimizer = torch.optim.Adam(params=mmf_lstm_model.parameters(), lr=mmf_params['learning_rate']) # define Adam optimizer receiving mmf_lst_model parameters and learning rate defined in mmf_params\n",
        "\n",
        "mmf_activation_fn = torch.tanh # define activation function - hyperbolic tangent\n",
        "mmf_warm_up = mmf_params['lstm_warm_up'] # define a warm-up window to start training the model, from mmf_params"
      ]
    },
    {
      "cell_type": "code",
      "execution_count": 20,
      "metadata": {
        "id": "UDtkhSF75TeO"
      },
      "outputs": [],
      "source": [
        "# lists to store performance metrics of the learning\n",
        "\n",
        "train_loss_history = []\n",
        "max_gradient_history = []\n",
        "mse_train_history = []\n",
        "mse_test_history = []"
      ]
    },
    {
      "cell_type": "code",
      "execution_count": 21,
      "metadata": {
        "colab": {
          "base_uri": "https://localhost:8080/"
        },
        "id": "4QjD4dKf5TeO",
        "outputId": "02124a68-a228-4b63-9c98-da0c1d064b6c"
      },
      "outputs": [
        {
          "output_type": "execute_result",
          "data": {
            "text/plain": [
              "<__main__.MMF_Set at 0x7fb310485550>"
            ]
          },
          "metadata": {},
          "execution_count": 21
        }
      ],
      "source": [
        "mmf_train_feature_set"
      ]
    },
    {
      "cell_type": "code",
      "execution_count": 22,
      "metadata": {
        "colab": {
          "base_uri": "https://localhost:8080/",
          "height": 478
        },
        "id": "y2mOLWpq5TeP",
        "outputId": "79525163-e079-47f9-f24a-f851b369f047"
      },
      "outputs": [
        {
          "output_type": "display_data",
          "data": {
            "text/plain": [
              "<Figure size 1800x576 with 2 Axes>"
            ],
            "image/png": "[encoded data removed]"
          },
          "metadata": {
            "needs_background": "light"
          }
        },
        {
          "output_type": "stream",
          "name": "stderr",
          "text": [
            "100%|██████████| 1815/1815 [20:28<00:00,  1.48it/s]\n"
          ]
        }
      ],
      "source": [
        "for epoch in range(10): # you may vary it, or think out of some stop criterion\n",
        "    mmf_train_feature_set_t = torch.utils.data.DataLoader(mmf_train_feature_set,batch_size=mmf_params['batch_size'],shuffle=True,num_workers=0)\n",
        "    try:\n",
        "        with tqdm(mmf_train_feature_set_t) as progressbar:\n",
        "            for mmf_episode in progressbar:\n",
        "                predicted_return = mmf_lstm_model(mmf_episode[0])  # get mmf_lstm_model prediction calculated on the current episode features\n",
        "                #print(mmf_episode[0].shape, mmf_episode[1].shape, type(mmf_episode), predicted_return.shape)\n",
        "                train_loss = mmf_loss_fn(input=predicted_return, target=mmf_episode[1]) # calculate loss between actual and predicted values. please ignore the starting warm-up window in loss calculation\n",
        "                train_loss_history.append(train_loss.item()) # store the loss of the current episode\n",
        "                mmf_optimizer.zero_grad() # set the gradients of all optimized tensors to zero\n",
        "                train_loss.backward() # backward propagation\n",
        "                mmf_optimizer.step() # take an optimization step\n",
        "\n",
        "                # it is in general a good idea to monitor max gradient and to be able to clip if necessary it using:\n",
        "                # nn.utils.clip_grad_value_(mmf_lstm_model.parameters(), clip_value=1.0)\n",
        "                max_gradient_history.append( np.max([torch.max(p.grad).item() for p in mmf_lstm_model.parameters() if p.grad is not None]) )\n",
        "\n",
        "                if len(train_loss_history) % 50 == 0:\n",
        "                    mmf_lstm_model.train(False) # disable learning mode\n",
        "\n",
        "                    mse_train_history.append( mmf_loss_fn(mmf_activation_fn(mmf_lstm_model(X_train_t)),y_train_t).item() ) # losses calculcated on the whole history /\n",
        "                    mse_test_history.append( mmf_loss_fn(mmf_activation_fn(mmf_lstm_model(X_test_t)),y_test_t).item() )    # unlike row #8 where the current episode only\n",
        "\n",
        "                    mmf_lstm_model.train(True) # enable learning mode\n",
        "\n",
        "                    clear_output(True)\n",
        "\n",
        "                    fgs,axs = plt.subplots(1,2, figsize=[25,8])\n",
        "\n",
        "                    axs[1].plot(max_gradient_history, label='max grad')\n",
        "                    axs[1].legend(loc='best')\n",
        "                    axs[1].grid()\n",
        "\n",
        "                    axs[0].plot(mse_train_history, label='train loss', color='blue')\n",
        "                    axs[0].plot(mse_test_history, label='test loss', color='red')\n",
        "                    axs[0].set_yscale('log')\n",
        "                    axs[0].yaxis.set_major_formatter(plt.LogFormatter())\n",
        "                    axs[0].yaxis.set_minor_formatter(plt.LogFormatter())\n",
        "                    axs[0].axhline(y=cb_mse_error_test, color='red', linestyle='--', alpha=0.8, label='catboost test loss')\n",
        "                    axs[0].axhline(y=cb_mse_error_train, color='blue', linestyle='--', alpha=0.8, label='catboost train loss')\n",
        "                    axs[0].legend(loc='best')\n",
        "\n",
        "                    plt.show()\n",
        "    except KeyboardInterrupt:\n",
        "        pass"
      ]
    },
    {
      "cell_type": "code",
      "execution_count": null,
      "metadata": {
        "id": "MTvCOiUm5TeP"
      },
      "outputs": [],
      "source": []
    }
  ],
  "metadata": {
    "kernelspec": {
      "display_name": "Python 3.8.6 64-bit",
      "language": "python",
      "name": "python3"
    },
    "language_info": {
      "codemirror_mode": {
        "name": "ipython",
        "version": 3
      },
      "file_extension": ".py",
      "mimetype": "text/x-python",
      "name": "python",
      "nbconvert_exporter": "python",
      "pygments_lexer": "ipython3",
      "version": "3.8.6"
    },
    "vscode": {
      "interpreter": {
        "hash": "a4868653bb6f8972e87e4c446ab8a445a15b25dedb8594cc74c480f8152ea86a"
      }
    },
    "colab": {
      "provenance": [],
      "collapsed_sections": []
    }
  },
  "nbformat": 4,
  "nbformat_minor": 0
}