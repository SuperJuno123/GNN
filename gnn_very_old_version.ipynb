{
  "cells": [
    {
      "cell_type": "code",
      "execution_count": 1,
      "metadata": {
        "id": "4lTm8ou85Tdf"
      },
      "outputs": [],
      "source": [
        "import os\n",
        "import numpy as np\n",
        "import pandas as pd\n",
        "import matplotlib.pyplot as plt\n",
        "import seaborn as sns\n",
        "from collections import namedtuple\n",
        "\n",
        "from statsmodels.tsa.stattools import adfuller\n",
        "\n",
        "import sklearn.metrics as metrics\n",
        "from sklearn.model_selection import train_test_split\n",
        "from sklearn.preprocessing import QuantileTransformer\n",
        "\n",
        "import torch\n",
        "import torch.nn as nn\n",
        "import torch.nn.functional as F\n",
        "\n",
        "# depending on your OS\n",
        "# --------------------\n",
        "from tqdm import trange,tqdm\n",
        "# from tqdm.notebook import trange,tqdm # works for Linux\n",
        "# --------------------\n",
        "\n",
        "from IPython.display import clear_output\n",
        "\n",
        "%matplotlib inline"
      ]
    },
    {
      "cell_type": "code",
      "execution_count": 4,
      "metadata": {
        "id": "6oun_BMx5Tdu"
      },
      "outputs": [
        {
          "data": {
            "text/plain": [
              "False"
            ]
          },
          "execution_count": 4,
          "metadata": {},
          "output_type": "execute_result"
        }
      ],
      "source": [
        "MDATA_PATH = 'mdata'\n",
        "\n",
        "device = 'cpu' # you may try 'cuda' if your machine supports NVIDIA\n",
        "\n",
        "torch.cuda.is_available()"
      ]
    },
    {
      "cell_type": "markdown",
      "metadata": {
        "id": "pMYJqTp65Tdv"
      },
      "source": [
        "---"
      ]
    },
    {
      "cell_type": "code",
      "execution_count": 5,
      "metadata": {
        "id": "RRHIL9Fh5Tdw"
      },
      "outputs": [],
      "source": [
        "def get_dates():\n",
        "    return sorted(os.listdir(MDATA_PATH))\n",
        "\n",
        "def get_tickers():\n",
        "    dates = get_dates()\n",
        "    tickers = []\n",
        "    for date in dates:\n",
        "        tickers += os.listdir(os.path.join(MDATA_PATH,date))\n",
        "    return np.unique(tickers)\n",
        "\n",
        "def get_market_data(ticker):\n",
        "    agg_mmf_data_raw = []\n",
        "    for date in get_dates():\n",
        "        if not os.path.exists(os.path.join(MDATA_PATH,date,ticker)):\n",
        "            continue\n",
        "        df = pd.read_csv(\n",
        "            os.path.join(MDATA_PATH,date,ticker),\n",
        "            compression='gzip',\n",
        "            dtype={'bar_time':float,'TIMESTAMP':float},\n",
        "            index_col=0,\n",
        "            parse_dates=[2,3],\n",
        "            date_parser=pd.to_datetime,\n",
        "        ).sort_values(by=['VOLUME','bar_count']).groupby('bar_time',as_index=False).last()\n",
        "        agg_mmf_data_raw.append(df)\n",
        "    agg_mmf_data_raw = pd.concat(agg_mmf_data_raw).set_index('bar_time').sort_index()\n",
        "    \n",
        "    agg_price_grid_raw = agg_mmf_data_raw.filter(like='PRICE_GRID')\n",
        "    agg_vol_grid_raw = agg_mmf_data_raw.filter(like='VOL_GRID')\n",
        "\n",
        "    agg_mmf_data_raw = agg_mmf_data_raw[ agg_mmf_data_raw.columns[(\n",
        "        ~agg_mmf_data_raw.columns.str.startswith('EXEC')\n",
        "        &\n",
        "        ~agg_mmf_data_raw.columns.str.startswith('PRICE_GRID')\n",
        "        &\n",
        "        ~agg_mmf_data_raw.columns.str.startswith('VOL_GRID')\n",
        "    )]]\n",
        "    agg_mmf_data_raw.drop([\n",
        "        'TIMESTAMP','ZERO_SPREAD_ON_TRADE','EMPTY_LOB_SIDE_AFTER_UPDATE','NEGATIVE_SPREAD_AFTER_UPDATE',\n",
        "        'ZERO_SPREAD_AFTER_UPDATE','EMPTY_LOB_SIDE_ON_TRADE','NEGATIVE_SPREAD_ON_TRADE','bar_count','WEEKDAY'\n",
        "    ],inplace=True,axis=1)\n",
        "    \n",
        "    return agg_mmf_data_raw,agg_price_grid_raw\n",
        "\n",
        "def get_adf_p_value(dtest):\n",
        "    dftest = adfuller(dtest, maxlag=10)\n",
        "    p_value = dftest[1]\n",
        "    return p_value\n",
        "\n",
        "def generate_features(mmf_data_raw,price_grid_raw,preserve_cols=['DVOL']):\n",
        "    dset = (mmf_data_raw.BEST_ASK/2 + mmf_data_raw.BEST_BID/2).to_frame('MID_PRICE') \n",
        "\n",
        "    dset['TG_Y'] =  (mmf_data_raw['VWAP'].shift(-2) - mmf_data_raw['VWAP'].shift(-1)) / mmf_data_raw['VWAP'].shift(-1)\n",
        "    \n",
        "    dset['R1_X'] =  (dset['MID_PRICE'] - dset['MID_PRICE'].shift(1)) * 100\n",
        "    dset['R2_X'] =  (dset['MID_PRICE'] - dset['MID_PRICE'].shift(2) ) * 100\n",
        "\n",
        "    dset['R1V_X'] =  (mmf_data_raw['VWAP'] - mmf_data_raw['VWAP'].shift(1)) * 100\n",
        "    dset['R2V_X'] =  (mmf_data_raw['VWAP'] - mmf_data_raw['VWAP'].shift(2) ) * 100\n",
        "    \n",
        "    dset['RVW_ema_X'] =  mmf_data_raw['VWAP'] - mmf_data_raw['VWAP'].ewm(halflife=8).mean()\n",
        "    dset['RVW_ema2_X'] =  mmf_data_raw['VWAP'].ewm(halflife=8).mean() - mmf_data_raw['VWAP'].ewm(halflife=16).mean()\n",
        "    dset['RVW_ema3_X'] =  mmf_data_raw['VWAP'].ewm(halflife=16).mean() - mmf_data_raw['VWAP'].ewm(halflife=32).mean()\n",
        "    dset['RVW_ema4_X'] =  mmf_data_raw['VWAP'].ewm(halflife=32).mean() - mmf_data_raw['VWAP'].ewm(halflife=64).mean()\n",
        "    \n",
        "    for col in preserve_cols:\n",
        "        dset[f\"{col}_X\"] = mmf_data_raw[col]\n",
        "    \n",
        "    dset['DVOL_EMA3_X'] = dset['DVOL_X'].ewm(halflife=3).mean()\n",
        "    dset['DVOL_EMA10_X'] = dset['DVOL_X'].ewm(halflife=10).mean()\n",
        "\n",
        "    dset['BTC_BID_VOL'] = price_grid_raw[['PRICE_GRID_0.991026', 'PRICE_GRID_0.993590', 'PRICE_GRID_0.996154', 'PRICE_GRID_0.998718']].sum(axis=1).abs()\n",
        "    dset['BTC_ASK_VOL'] = price_grid_raw[['PRICE_GRID_1.001282','PRICE_GRID_1.003846', 'PRICE_GRID_1.006410', 'PRICE_GRID_1.008974']].sum(axis=1).abs()\n",
        "    dset['OIR_X'] = (dset['BTC_BID_VOL'] - dset['BTC_ASK_VOL']) / (dset['BTC_BID_VOL'] + dset['BTC_ASK_VOL'])\n",
        "    \n",
        "    X, y = dset.filter(like='_X'), dset.filter(like='_Y')\n",
        "    return X,y\n"
      ]
    },
    {
      "cell_type": "markdown",
      "metadata": {
        "id": "BUIc-bV55Td4"
      },
      "source": [
        "---"
      ]
    },
    {
      "cell_type": "code",
      "execution_count": 6,
      "metadata": {
        "colab": {
          "base_uri": "https://localhost:8080/"
        },
        "id": "WHHZLOCC5Td6",
        "outputId": "c4649609-5c3a-48b4-81bf-9ea2ccbcae0d"
      },
      "outputs": [
        {
          "name": "stdout",
          "output_type": "stream",
          "text": [
            "['Z.ADA' 'Z.BNB' 'Z.BTC' 'Z.DOGE' 'Z.DOT' 'Z.ETC' 'Z.ETH' 'Z.FIL' 'Z.LINK'\n",
            " 'Z.LTC' 'Z.MATIC' 'Z.THETA' 'Z.UNI' 'Z.XRP']\n"
          ]
        }
      ],
      "source": [
        "tickers = get_tickers()\n",
        "print (tickers)"
      ]
    },
    {
      "cell_type": "code",
      "execution_count": 7,
      "metadata": {
        "id": "OdiUG3NM5Td-"
      },
      "outputs": [],
      "source": [
        "# SELECT ONE ON YOUR PREFERENCE\n",
        "ticker = 'Z.DOGE'"
      ]
    },
    {
      "cell_type": "code",
      "execution_count": 8,
      "metadata": {
        "id": "cl6_2SEb5TeA"
      },
      "outputs": [],
      "source": [
        "agg_mmf_data_raw,agg_price_grid_raw = get_market_data(ticker)\n",
        "\n",
        "# getting rid of the integrated time series, use with caution\n",
        "adf_test_p_value = agg_mmf_data_raw.aggregate(get_adf_p_value,axis=0)\n",
        "preserve_cols = adf_test_p_value.loc[lambda x: x<1e-4].index\n",
        "\n",
        "X_mmf,y_regr = generate_features(agg_mmf_data_raw,agg_price_grid_raw,preserve_cols=preserve_cols)\n",
        "y_regr = y_regr * 100\n",
        "nna_indices = X_mmf.notnull().min(axis=1) & agg_price_grid_raw.notnull().min(axis=1) & y_regr.notnull().min(axis=1)\n",
        "agg_mmf_data_raw,agg_price_grid_raw,X_mmf,y_regr = agg_mmf_data_raw[nna_indices],agg_price_grid_raw[nna_indices],X_mmf[nna_indices],y_regr[nna_indices]"
      ]
    },
    {
      "cell_type": "code",
      "execution_count": 9,
      "metadata": {},
      "outputs": [
        {
          "data": {
            "text/plain": [
              "Index(['BEST_BID', 'BEST_BID_VOL', 'BEST_ASK', 'BEST_ASK_VOL', 'LAST',\n",
              "       'VOLUME', 'DVOL', 'HIGH', 'LOW', 'ENTROPY', 'COUNT', 'COUNT_BUY',\n",
              "       'COUNT_SELL', 'MO_COUNT', 'MO_COUNT_BUY', 'MO_COUNT_SELL', 'MO_AVG',\n",
              "       'MO_AVG_BUY', 'MO_AVG_SELL', 'BREAK_BEST_DOWN', 'BREAK_BEST_UP',\n",
              "       'ASK_VOLUME', 'BID_VOLUME', 'VWAP', 'HOUR', 'MINUTE', 'BAR_DURATION'],\n",
              "      dtype='object')"
            ]
          },
          "execution_count": 9,
          "metadata": {},
          "output_type": "execute_result"
        }
      ],
      "source": [
        "agg_mmf_data_raw.keys()"
      ]
    },
    {
      "cell_type": "code",
      "execution_count": 11,
      "metadata": {},
      "outputs": [
        {
          "name": "stdout",
          "output_type": "stream",
          "text": [
            "Z.ADA\n",
            "Z.BNB\n",
            "Z.BTC\n",
            "Z.DOGE\n",
            "Z.DOT\n",
            "Z.ETC\n",
            "Z.ETH\n",
            "Z.FIL\n",
            "Z.LINK\n",
            "Z.LTC\n",
            "Z.MATIC\n",
            "Z.THETA\n",
            "Z.UNI\n",
            "Z.XRP\n"
          ]
        }
      ],
      "source": [
        "returns = pd.DataFrame(columns=tickers)\n",
        "\n",
        "for ticker in tickers:\n",
        "    print(ticker)\n",
        "    agg_mmf_data_raw,agg_price_grid_raw = get_market_data(ticker)\n",
        "    returns[ticker] = (agg_mmf_data_raw['LAST'] - agg_mmf_data_raw['LAST'].shift(1)) / agg_mmf_data_raw['LAST'].shift(1)\n",
        "    returns.head()"
      ]
    },
    {
      "cell_type": "code",
      "execution_count": 14,
      "metadata": {},
      "outputs": [
        {
          "data": {
            "text/html": [
              "<div>\n",
              "<style scoped>\n",
              "    .dataframe tbody tr th:only-of-type {\n",
              "        vertical-align: middle;\n",
              "    }\n",
              "\n",
              "    .dataframe tbody tr th {\n",
              "        vertical-align: top;\n",
              "    }\n",
              "\n",
              "    .dataframe thead th {\n",
              "        text-align: right;\n",
              "    }\n",
              "</style>\n",
              "<table border=\"1\" class=\"dataframe\">\n",
              "  <thead>\n",
              "    <tr style=\"text-align: right;\">\n",
              "      <th></th>\n",
              "      <th>Z.ADA</th>\n",
              "      <th>Z.BNB</th>\n",
              "      <th>Z.BTC</th>\n",
              "      <th>Z.DOGE</th>\n",
              "      <th>Z.DOT</th>\n",
              "      <th>Z.ETC</th>\n",
              "      <th>Z.ETH</th>\n",
              "      <th>Z.FIL</th>\n",
              "      <th>Z.LINK</th>\n",
              "      <th>Z.LTC</th>\n",
              "      <th>Z.MATIC</th>\n",
              "      <th>Z.THETA</th>\n",
              "      <th>Z.UNI</th>\n",
              "      <th>Z.XRP</th>\n",
              "    </tr>\n",
              "    <tr>\n",
              "      <th>bar_time</th>\n",
              "      <th></th>\n",
              "      <th></th>\n",
              "      <th></th>\n",
              "      <th></th>\n",
              "      <th></th>\n",
              "      <th></th>\n",
              "      <th></th>\n",
              "      <th></th>\n",
              "      <th></th>\n",
              "      <th></th>\n",
              "      <th></th>\n",
              "      <th></th>\n",
              "      <th></th>\n",
              "      <th></th>\n",
              "    </tr>\n",
              "  </thead>\n",
              "  <tbody>\n",
              "    <tr>\n",
              "      <th>2021-01-01 00:02:01.217999872</th>\n",
              "      <td>NaN</td>\n",
              "      <td>NaN</td>\n",
              "      <td>NaN</td>\n",
              "      <td>NaN</td>\n",
              "      <td>NaN</td>\n",
              "      <td>NaN</td>\n",
              "      <td>NaN</td>\n",
              "      <td>NaN</td>\n",
              "      <td>NaN</td>\n",
              "      <td>NaN</td>\n",
              "      <td>NaN</td>\n",
              "      <td>NaN</td>\n",
              "      <td>NaN</td>\n",
              "      <td>NaN</td>\n",
              "    </tr>\n",
              "    <tr>\n",
              "      <th>2021-01-01 00:05:06.065999872</th>\n",
              "      <td>-0.005065</td>\n",
              "      <td>-0.003446</td>\n",
              "      <td>-0.002071</td>\n",
              "      <td>-0.001065</td>\n",
              "      <td>-0.008260</td>\n",
              "      <td>0.000177</td>\n",
              "      <td>-0.002529</td>\n",
              "      <td>0.002468</td>\n",
              "      <td>-0.004619</td>\n",
              "      <td>-0.002880</td>\n",
              "      <td>-0.001131</td>\n",
              "      <td>-0.002472</td>\n",
              "      <td>-0.002950</td>\n",
              "      <td>-0.000907</td>\n",
              "    </tr>\n",
              "    <tr>\n",
              "      <th>2021-01-01 00:08:29.527000064</th>\n",
              "      <td>-0.004759</td>\n",
              "      <td>-0.003350</td>\n",
              "      <td>-0.001703</td>\n",
              "      <td>-0.008317</td>\n",
              "      <td>-0.003245</td>\n",
              "      <td>-0.003000</td>\n",
              "      <td>-0.003539</td>\n",
              "      <td>-0.005772</td>\n",
              "      <td>-0.004551</td>\n",
              "      <td>-0.002808</td>\n",
              "      <td>-0.004530</td>\n",
              "      <td>-0.005981</td>\n",
              "      <td>-0.003329</td>\n",
              "      <td>-0.005447</td>\n",
              "    </tr>\n",
              "    <tr>\n",
              "      <th>2021-01-01 00:10:31.216999936</th>\n",
              "      <td>-0.001168</td>\n",
              "      <td>0.000027</td>\n",
              "      <td>-0.001684</td>\n",
              "      <td>-0.001075</td>\n",
              "      <td>0.001085</td>\n",
              "      <td>-0.001770</td>\n",
              "      <td>-0.001497</td>\n",
              "      <td>-0.003816</td>\n",
              "      <td>-0.002062</td>\n",
              "      <td>-0.002897</td>\n",
              "      <td>-0.002275</td>\n",
              "      <td>-0.017725</td>\n",
              "      <td>-0.003614</td>\n",
              "      <td>-0.005477</td>\n",
              "    </tr>\n",
              "    <tr>\n",
              "      <th>2021-01-01 00:12:11.052999936</th>\n",
              "      <td>-0.001726</td>\n",
              "      <td>-0.001237</td>\n",
              "      <td>-0.000488</td>\n",
              "      <td>-0.001722</td>\n",
              "      <td>0.010949</td>\n",
              "      <td>-0.001064</td>\n",
              "      <td>-0.000859</td>\n",
              "      <td>-0.006521</td>\n",
              "      <td>-0.003683</td>\n",
              "      <td>0.000403</td>\n",
              "      <td>-0.002851</td>\n",
              "      <td>-0.007560</td>\n",
              "      <td>-0.010880</td>\n",
              "      <td>-0.000459</td>\n",
              "    </tr>\n",
              "    <tr>\n",
              "      <th>...</th>\n",
              "      <td>...</td>\n",
              "      <td>...</td>\n",
              "      <td>...</td>\n",
              "      <td>...</td>\n",
              "      <td>...</td>\n",
              "      <td>...</td>\n",
              "      <td>...</td>\n",
              "      <td>...</td>\n",
              "      <td>...</td>\n",
              "      <td>...</td>\n",
              "      <td>...</td>\n",
              "      <td>...</td>\n",
              "      <td>...</td>\n",
              "      <td>...</td>\n",
              "    </tr>\n",
              "    <tr>\n",
              "      <th>2021-10-31 23:37:08.680000000</th>\n",
              "      <td>0.001220</td>\n",
              "      <td>0.003131</td>\n",
              "      <td>0.001830</td>\n",
              "      <td>-0.000639</td>\n",
              "      <td>0.002380</td>\n",
              "      <td>0.002930</td>\n",
              "      <td>0.003416</td>\n",
              "      <td>0.006435</td>\n",
              "      <td>0.003837</td>\n",
              "      <td>0.003755</td>\n",
              "      <td>0.003175</td>\n",
              "      <td>0.005868</td>\n",
              "      <td>0.003483</td>\n",
              "      <td>0.004769</td>\n",
              "    </tr>\n",
              "    <tr>\n",
              "      <th>2021-10-31 23:42:08.324000000</th>\n",
              "      <td>-0.000102</td>\n",
              "      <td>-0.000324</td>\n",
              "      <td>-0.000464</td>\n",
              "      <td>-0.002628</td>\n",
              "      <td>-0.000815</td>\n",
              "      <td>0.000753</td>\n",
              "      <td>-0.000216</td>\n",
              "      <td>0.001053</td>\n",
              "      <td>-0.001130</td>\n",
              "      <td>-0.000364</td>\n",
              "      <td>-0.000571</td>\n",
              "      <td>0.000695</td>\n",
              "      <td>-0.000638</td>\n",
              "      <td>0.001254</td>\n",
              "    </tr>\n",
              "    <tr>\n",
              "      <th>2021-10-31 23:47:08.182000128</th>\n",
              "      <td>-0.000254</td>\n",
              "      <td>0.000057</td>\n",
              "      <td>0.000213</td>\n",
              "      <td>-0.004380</td>\n",
              "      <td>-0.000699</td>\n",
              "      <td>0.000863</td>\n",
              "      <td>-0.000298</td>\n",
              "      <td>-0.001206</td>\n",
              "      <td>-0.000499</td>\n",
              "      <td>-0.000832</td>\n",
              "      <td>0.006178</td>\n",
              "      <td>0.000278</td>\n",
              "      <td>-0.000319</td>\n",
              "      <td>-0.001252</td>\n",
              "    </tr>\n",
              "    <tr>\n",
              "      <th>2021-10-31 23:52:08.168999936</th>\n",
              "      <td>-0.001726</td>\n",
              "      <td>-0.001999</td>\n",
              "      <td>-0.001509</td>\n",
              "      <td>0.000215</td>\n",
              "      <td>-0.001795</td>\n",
              "      <td>-0.003155</td>\n",
              "      <td>-0.001995</td>\n",
              "      <td>-0.001641</td>\n",
              "      <td>-0.001997</td>\n",
              "      <td>-0.001873</td>\n",
              "      <td>-0.000929</td>\n",
              "      <td>-0.001527</td>\n",
              "      <td>-0.001438</td>\n",
              "      <td>-0.001791</td>\n",
              "    </tr>\n",
              "    <tr>\n",
              "      <th>2021-10-31 23:56:50.848000000</th>\n",
              "      <td>0.000814</td>\n",
              "      <td>0.000839</td>\n",
              "      <td>0.000042</td>\n",
              "      <td>0.004863</td>\n",
              "      <td>0.000047</td>\n",
              "      <td>0.001067</td>\n",
              "      <td>0.001124</td>\n",
              "      <td>-0.001039</td>\n",
              "      <td>0.001635</td>\n",
              "      <td>0.001042</td>\n",
              "      <td>0.000310</td>\n",
              "      <td>0.000278</td>\n",
              "      <td>0.000400</td>\n",
              "      <td>0.000090</td>\n",
              "    </tr>\n",
              "  </tbody>\n",
              "</table>\n",
              "<p>331981 rows × 14 columns</p>\n",
              "</div>"
            ],
            "text/plain": [
              "                                  Z.ADA     Z.BNB     Z.BTC    Z.DOGE  \\\n",
              "bar_time                                                                \n",
              "2021-01-01 00:02:01.217999872       NaN       NaN       NaN       NaN   \n",
              "2021-01-01 00:05:06.065999872 -0.005065 -0.003446 -0.002071 -0.001065   \n",
              "2021-01-01 00:08:29.527000064 -0.004759 -0.003350 -0.001703 -0.008317   \n",
              "2021-01-01 00:10:31.216999936 -0.001168  0.000027 -0.001684 -0.001075   \n",
              "2021-01-01 00:12:11.052999936 -0.001726 -0.001237 -0.000488 -0.001722   \n",
              "...                                 ...       ...       ...       ...   \n",
              "2021-10-31 23:37:08.680000000  0.001220  0.003131  0.001830 -0.000639   \n",
              "2021-10-31 23:42:08.324000000 -0.000102 -0.000324 -0.000464 -0.002628   \n",
              "2021-10-31 23:47:08.182000128 -0.000254  0.000057  0.000213 -0.004380   \n",
              "2021-10-31 23:52:08.168999936 -0.001726 -0.001999 -0.001509  0.000215   \n",
              "2021-10-31 23:56:50.848000000  0.000814  0.000839  0.000042  0.004863   \n",
              "\n",
              "                                  Z.DOT     Z.ETC     Z.ETH     Z.FIL  \\\n",
              "bar_time                                                                \n",
              "2021-01-01 00:02:01.217999872       NaN       NaN       NaN       NaN   \n",
              "2021-01-01 00:05:06.065999872 -0.008260  0.000177 -0.002529  0.002468   \n",
              "2021-01-01 00:08:29.527000064 -0.003245 -0.003000 -0.003539 -0.005772   \n",
              "2021-01-01 00:10:31.216999936  0.001085 -0.001770 -0.001497 -0.003816   \n",
              "2021-01-01 00:12:11.052999936  0.010949 -0.001064 -0.000859 -0.006521   \n",
              "...                                 ...       ...       ...       ...   \n",
              "2021-10-31 23:37:08.680000000  0.002380  0.002930  0.003416  0.006435   \n",
              "2021-10-31 23:42:08.324000000 -0.000815  0.000753 -0.000216  0.001053   \n",
              "2021-10-31 23:47:08.182000128 -0.000699  0.000863 -0.000298 -0.001206   \n",
              "2021-10-31 23:52:08.168999936 -0.001795 -0.003155 -0.001995 -0.001641   \n",
              "2021-10-31 23:56:50.848000000  0.000047  0.001067  0.001124 -0.001039   \n",
              "\n",
              "                                 Z.LINK     Z.LTC   Z.MATIC   Z.THETA  \\\n",
              "bar_time                                                                \n",
              "2021-01-01 00:02:01.217999872       NaN       NaN       NaN       NaN   \n",
              "2021-01-01 00:05:06.065999872 -0.004619 -0.002880 -0.001131 -0.002472   \n",
              "2021-01-01 00:08:29.527000064 -0.004551 -0.002808 -0.004530 -0.005981   \n",
              "2021-01-01 00:10:31.216999936 -0.002062 -0.002897 -0.002275 -0.017725   \n",
              "2021-01-01 00:12:11.052999936 -0.003683  0.000403 -0.002851 -0.007560   \n",
              "...                                 ...       ...       ...       ...   \n",
              "2021-10-31 23:37:08.680000000  0.003837  0.003755  0.003175  0.005868   \n",
              "2021-10-31 23:42:08.324000000 -0.001130 -0.000364 -0.000571  0.000695   \n",
              "2021-10-31 23:47:08.182000128 -0.000499 -0.000832  0.006178  0.000278   \n",
              "2021-10-31 23:52:08.168999936 -0.001997 -0.001873 -0.000929 -0.001527   \n",
              "2021-10-31 23:56:50.848000000  0.001635  0.001042  0.000310  0.000278   \n",
              "\n",
              "                                  Z.UNI     Z.XRP  \n",
              "bar_time                                           \n",
              "2021-01-01 00:02:01.217999872       NaN       NaN  \n",
              "2021-01-01 00:05:06.065999872 -0.002950 -0.000907  \n",
              "2021-01-01 00:08:29.527000064 -0.003329 -0.005447  \n",
              "2021-01-01 00:10:31.216999936 -0.003614 -0.005477  \n",
              "2021-01-01 00:12:11.052999936 -0.010880 -0.000459  \n",
              "...                                 ...       ...  \n",
              "2021-10-31 23:37:08.680000000  0.003483  0.004769  \n",
              "2021-10-31 23:42:08.324000000 -0.000638  0.001254  \n",
              "2021-10-31 23:47:08.182000128 -0.000319 -0.001252  \n",
              "2021-10-31 23:52:08.168999936 -0.001438 -0.001791  \n",
              "2021-10-31 23:56:50.848000000  0.000400  0.000090  \n",
              "\n",
              "[331981 rows x 14 columns]"
            ]
          },
          "execution_count": 14,
          "metadata": {},
          "output_type": "execute_result"
        }
      ],
      "source": [
        "returns"
      ]
    },
    {
      "cell_type": "code",
      "execution_count": 12,
      "metadata": {},
      "outputs": [
        {
          "data": {
            "text/plain": [
              "<AxesSubplot:>"
            ]
          },
          "execution_count": 12,
          "metadata": {},
          "output_type": "execute_result"
        },
        {
          "data": {
            "image/png": "[encoded data removed]",
            "text/plain": [
              "<Figure size 432x288 with 2 Axes>"
            ]
          },
          "metadata": {
            "needs_background": "light"
          },
          "output_type": "display_data"
        }
      ],
      "source": [
        "sns.heatmap(returns.corr())"
      ]
    },
    {
      "cell_type": "code",
      "execution_count": 15,
      "metadata": {},
      "outputs": [],
      "source": [
        "df_corrs = torch.tensor((returns.corr() > 0.5).astype(int).to_numpy())\n",
        "\n",
        "edge_index = df_corrs.nonzero().t().contiguous().to(device)"
      ]
    },
    {
      "cell_type": "code",
      "execution_count": 16,
      "metadata": {},
      "outputs": [],
      "source": [
        "import networkx as nx\n",
        "G = nx.from_pandas_edgelist(pd.DataFrame(edge_index).transpose(), source=1, target=0)"
      ]
    },
    {
      "cell_type": "code",
      "execution_count": 18,
      "metadata": {},
      "outputs": [
        {
          "data": {
            "text/plain": [
              "{0: Text(0.9999999914850508, 1.901690784043941e-08, 'Z.ADA')}"
            ]
          },
          "execution_count": 18,
          "metadata": {},
          "output_type": "execute_result"
        },
        {
          "data": {
            "image/png": "[encoded data removed]",
            "text/plain": [
              "<Figure size 432x288 with 1 Axes>"
            ]
          },
          "metadata": {},
          "output_type": "display_data"
        }
      ],
      "source": [
        "pos = nx.circular_layout(G)\n",
        "nx.draw(G, pos=pos)\n",
        "pos_higher = {}\n",
        "\n",
        "for k, v in pos.items():\n",
        "    if(v[1]>0):\n",
        "        pos_higher[k] = (v[0]-0.1, v[1]+0.1)\n",
        "    else:\n",
        "        pos_higher[k] = (v[0]-0.1, v[1]-0.1)\n",
        "\n",
        "labels={}\n",
        "for i in range(len([tickers])):\n",
        "    labels[i] = tickers[i]\n",
        "    \n",
        "nx.draw(G)\n",
        "nx.draw_networkx_labels(G, pos, labels=labels)\n"
      ]
    },
    {
      "cell_type": "code",
      "execution_count": 51,
      "metadata": {},
      "outputs": [],
      "source": [
        "selected_tickers = ['Z.ADA', 'Z.BTC', 'Z.ETH']"
      ]
    },
    {
      "cell_type": "code",
      "execution_count": null,
      "metadata": {},
      "outputs": [],
      "source": []
    },
    {
      "cell_type": "code",
      "execution_count": null,
      "metadata": {},
      "outputs": [],
      "source": []
    },
    {
      "cell_type": "code",
      "execution_count": 10,
      "metadata": {},
      "outputs": [
        {
          "data": {
            "text/html": [
              "<div>\n",
              "<style scoped>\n",
              "    .dataframe tbody tr th:only-of-type {\n",
              "        vertical-align: middle;\n",
              "    }\n",
              "\n",
              "    .dataframe tbody tr th {\n",
              "        vertical-align: top;\n",
              "    }\n",
              "\n",
              "    .dataframe thead th {\n",
              "        text-align: right;\n",
              "    }\n",
              "</style>\n",
              "<table border=\"1\" class=\"dataframe\">\n",
              "  <thead>\n",
              "    <tr style=\"text-align: right;\">\n",
              "      <th></th>\n",
              "      <th>R1_X</th>\n",
              "      <th>R2_X</th>\n",
              "      <th>R1V_X</th>\n",
              "      <th>R2V_X</th>\n",
              "      <th>RVW_ema_X</th>\n",
              "      <th>RVW_ema2_X</th>\n",
              "      <th>RVW_ema3_X</th>\n",
              "      <th>RVW_ema4_X</th>\n",
              "      <th>BEST_BID_VOL_X</th>\n",
              "      <th>BEST_ASK_VOL_X</th>\n",
              "      <th>...</th>\n",
              "      <th>BREAK_BEST_DOWN_X</th>\n",
              "      <th>BREAK_BEST_UP_X</th>\n",
              "      <th>ASK_VOLUME_X</th>\n",
              "      <th>BID_VOLUME_X</th>\n",
              "      <th>HOUR_X</th>\n",
              "      <th>MINUTE_X</th>\n",
              "      <th>BAR_DURATION_X</th>\n",
              "      <th>DVOL_EMA3_X</th>\n",
              "      <th>DVOL_EMA10_X</th>\n",
              "      <th>OIR_X</th>\n",
              "    </tr>\n",
              "    <tr>\n",
              "      <th>bar_time</th>\n",
              "      <th></th>\n",
              "      <th></th>\n",
              "      <th></th>\n",
              "      <th></th>\n",
              "      <th></th>\n",
              "      <th></th>\n",
              "      <th></th>\n",
              "      <th></th>\n",
              "      <th></th>\n",
              "      <th></th>\n",
              "      <th></th>\n",
              "      <th></th>\n",
              "      <th></th>\n",
              "      <th></th>\n",
              "      <th></th>\n",
              "      <th></th>\n",
              "      <th></th>\n",
              "      <th></th>\n",
              "      <th></th>\n",
              "      <th></th>\n",
              "      <th></th>\n",
              "    </tr>\n",
              "  </thead>\n",
              "  <tbody>\n",
              "    <tr>\n",
              "      <th>2021-01-01 00:08:29.527000064</th>\n",
              "      <td>-0.0030</td>\n",
              "      <td>-0.0045</td>\n",
              "      <td>-0.001845</td>\n",
              "      <td>-0.001680</td>\n",
              "      <td>-0.000011</td>\n",
              "      <td>-2.483437e-07</td>\n",
              "      <td>-1.228053e-07</td>\n",
              "      <td>-6.103497e-08</td>\n",
              "      <td>96024.0</td>\n",
              "      <td>1034125.0</td>\n",
              "      <td>...</td>\n",
              "      <td>45.0</td>\n",
              "      <td>15.0</td>\n",
              "      <td>43340642.0</td>\n",
              "      <td>51240202.0</td>\n",
              "      <td>0.0</td>\n",
              "      <td>8.0</td>\n",
              "      <td>2.034610e+11</td>\n",
              "      <td>-5.844945e+05</td>\n",
              "      <td>-4.782706e+05</td>\n",
              "      <td>-0.311013</td>\n",
              "    </tr>\n",
              "    <tr>\n",
              "      <th>2021-01-01 00:10:31.216999936</th>\n",
              "      <td>-0.0015</td>\n",
              "      <td>-0.0045</td>\n",
              "      <td>-0.002682</td>\n",
              "      <td>-0.004527</td>\n",
              "      <td>-0.000027</td>\n",
              "      <td>-8.254209e-07</td>\n",
              "      <td>-4.088907e-07</td>\n",
              "      <td>-2.033400e-07</td>\n",
              "      <td>25436.0</td>\n",
              "      <td>35278.0</td>\n",
              "      <td>...</td>\n",
              "      <td>37.0</td>\n",
              "      <td>22.0</td>\n",
              "      <td>29911119.0</td>\n",
              "      <td>51185141.0</td>\n",
              "      <td>0.0</td>\n",
              "      <td>10.0</td>\n",
              "      <td>1.216900e+11</td>\n",
              "      <td>-1.357189e+06</td>\n",
              "      <td>-1.132426e+06</td>\n",
              "      <td>0.222185</td>\n",
              "    </tr>\n",
              "    <tr>\n",
              "      <th>2021-01-01 00:12:11.052999936</th>\n",
              "      <td>-0.0005</td>\n",
              "      <td>-0.0020</td>\n",
              "      <td>-0.000136</td>\n",
              "      <td>-0.002818</td>\n",
              "      <td>-0.000022</td>\n",
              "      <td>-1.172062e-06</td>\n",
              "      <td>-5.868994e-07</td>\n",
              "      <td>-2.933055e-07</td>\n",
              "      <td>316022.0</td>\n",
              "      <td>308006.0</td>\n",
              "      <td>...</td>\n",
              "      <td>36.0</td>\n",
              "      <td>24.0</td>\n",
              "      <td>39424065.0</td>\n",
              "      <td>57641628.0</td>\n",
              "      <td>0.0</td>\n",
              "      <td>12.0</td>\n",
              "      <td>9.983600e+10</td>\n",
              "      <td>9.208057e+04</td>\n",
              "      <td>-8.352982e+04</td>\n",
              "      <td>-0.207790</td>\n",
              "    </tr>\n",
              "    <tr>\n",
              "      <th>2021-01-01 00:13:57.256000000</th>\n",
              "      <td>-0.0015</td>\n",
              "      <td>-0.0020</td>\n",
              "      <td>-0.001514</td>\n",
              "      <td>-0.001650</td>\n",
              "      <td>-0.000029</td>\n",
              "      <td>-1.677101e-06</td>\n",
              "      <td>-8.428833e-07</td>\n",
              "      <td>-4.218354e-07</td>\n",
              "      <td>129193.0</td>\n",
              "      <td>14986.0</td>\n",
              "      <td>...</td>\n",
              "      <td>21.0</td>\n",
              "      <td>16.0</td>\n",
              "      <td>25338840.0</td>\n",
              "      <td>48488817.0</td>\n",
              "      <td>0.0</td>\n",
              "      <td>13.0</td>\n",
              "      <td>1.062030e+11</td>\n",
              "      <td>-1.997104e+05</td>\n",
              "      <td>-2.577530e+05</td>\n",
              "      <td>-0.619399</td>\n",
              "    </tr>\n",
              "    <tr>\n",
              "      <th>2021-01-01 00:14:38.403000064</th>\n",
              "      <td>0.0000</td>\n",
              "      <td>-0.0015</td>\n",
              "      <td>-0.000576</td>\n",
              "      <td>-0.002090</td>\n",
              "      <td>-0.000029</td>\n",
              "      <td>-2.124709e-06</td>\n",
              "      <td>-1.074820e-06</td>\n",
              "      <td>-5.393670e-07</td>\n",
              "      <td>18062.0</td>\n",
              "      <td>13132.0</td>\n",
              "      <td>...</td>\n",
              "      <td>15.0</td>\n",
              "      <td>9.0</td>\n",
              "      <td>34059783.0</td>\n",
              "      <td>49785095.0</td>\n",
              "      <td>0.0</td>\n",
              "      <td>14.0</td>\n",
              "      <td>4.114700e+10</td>\n",
              "      <td>8.415264e+04</td>\n",
              "      <td>-5.550947e+04</td>\n",
              "      <td>0.335725</td>\n",
              "    </tr>\n",
              "    <tr>\n",
              "      <th>...</th>\n",
              "      <td>...</td>\n",
              "      <td>...</td>\n",
              "      <td>...</td>\n",
              "      <td>...</td>\n",
              "      <td>...</td>\n",
              "      <td>...</td>\n",
              "      <td>...</td>\n",
              "      <td>...</td>\n",
              "      <td>...</td>\n",
              "      <td>...</td>\n",
              "      <td>...</td>\n",
              "      <td>...</td>\n",
              "      <td>...</td>\n",
              "      <td>...</td>\n",
              "      <td>...</td>\n",
              "      <td>...</td>\n",
              "      <td>...</td>\n",
              "      <td>...</td>\n",
              "      <td>...</td>\n",
              "      <td>...</td>\n",
              "      <td>...</td>\n",
              "    </tr>\n",
              "    <tr>\n",
              "      <th>2021-10-31 23:31:11.516000000</th>\n",
              "      <td>0.0550</td>\n",
              "      <td>0.1020</td>\n",
              "      <td>-0.010221</td>\n",
              "      <td>0.169374</td>\n",
              "      <td>0.003239</td>\n",
              "      <td>1.845142e-03</td>\n",
              "      <td>3.325958e-03</td>\n",
              "      <td>4.610121e-03</td>\n",
              "      <td>172.0</td>\n",
              "      <td>3010.0</td>\n",
              "      <td>...</td>\n",
              "      <td>585.0</td>\n",
              "      <td>601.0</td>\n",
              "      <td>111931295.0</td>\n",
              "      <td>174104534.0</td>\n",
              "      <td>23.0</td>\n",
              "      <td>31.0</td>\n",
              "      <td>1.970200e+11</td>\n",
              "      <td>-1.934503e+05</td>\n",
              "      <td>-3.719447e+05</td>\n",
              "      <td>-0.190668</td>\n",
              "    </tr>\n",
              "    <tr>\n",
              "      <th>2021-10-31 23:33:05.256000000</th>\n",
              "      <td>-0.2890</td>\n",
              "      <td>-0.2340</td>\n",
              "      <td>-0.126319</td>\n",
              "      <td>-0.136540</td>\n",
              "      <td>0.001812</td>\n",
              "      <td>1.847150e-03</td>\n",
              "      <td>3.334820e-03</td>\n",
              "      <td>4.636623e-03</td>\n",
              "      <td>1200.0</td>\n",
              "      <td>7742.0</td>\n",
              "      <td>...</td>\n",
              "      <td>514.0</td>\n",
              "      <td>425.0</td>\n",
              "      <td>112980066.0</td>\n",
              "      <td>175574376.0</td>\n",
              "      <td>23.0</td>\n",
              "      <td>33.0</td>\n",
              "      <td>1.137400e+11</td>\n",
              "      <td>-9.848338e+05</td>\n",
              "      <td>-6.168830e+05</td>\n",
              "      <td>0.047111</td>\n",
              "    </tr>\n",
              "    <tr>\n",
              "      <th>2021-10-31 23:37:08.680000000</th>\n",
              "      <td>-0.0210</td>\n",
              "      <td>-0.3100</td>\n",
              "      <td>-0.122541</td>\n",
              "      <td>-0.248860</td>\n",
              "      <td>0.000538</td>\n",
              "      <td>1.792662e-03</td>\n",
              "      <td>3.314400e-03</td>\n",
              "      <td>4.648150e-03</td>\n",
              "      <td>893.0</td>\n",
              "      <td>25707.0</td>\n",
              "      <td>...</td>\n",
              "      <td>545.0</td>\n",
              "      <td>488.0</td>\n",
              "      <td>113225574.0</td>\n",
              "      <td>176129565.0</td>\n",
              "      <td>23.0</td>\n",
              "      <td>37.0</td>\n",
              "      <td>2.434240e+11</td>\n",
              "      <td>-5.991347e+05</td>\n",
              "      <td>-5.163215e+05</td>\n",
              "      <td>0.038583</td>\n",
              "    </tr>\n",
              "    <tr>\n",
              "      <th>2021-10-31 23:42:08.324000000</th>\n",
              "      <td>-0.0740</td>\n",
              "      <td>-0.0950</td>\n",
              "      <td>-0.070962</td>\n",
              "      <td>-0.193503</td>\n",
              "      <td>-0.000157</td>\n",
              "      <td>1.709697e-03</td>\n",
              "      <td>3.277374e-03</td>\n",
              "      <td>4.650674e-03</td>\n",
              "      <td>73561.0</td>\n",
              "      <td>8280.0</td>\n",
              "      <td>...</td>\n",
              "      <td>514.0</td>\n",
              "      <td>529.0</td>\n",
              "      <td>114849594.0</td>\n",
              "      <td>176892489.0</td>\n",
              "      <td>23.0</td>\n",
              "      <td>42.0</td>\n",
              "      <td>2.996440e+11</td>\n",
              "      <td>-8.058947e+05</td>\n",
              "      <td>-5.889838e+05</td>\n",
              "      <td>-0.062628</td>\n",
              "    </tr>\n",
              "    <tr>\n",
              "      <th>2021-10-31 23:47:08.182000128</th>\n",
              "      <td>-0.1220</td>\n",
              "      <td>-0.1960</td>\n",
              "      <td>-0.068636</td>\n",
              "      <td>-0.139598</td>\n",
              "      <td>-0.000774</td>\n",
              "      <td>1.602962e-03</td>\n",
              "      <td>3.225307e-03</td>\n",
              "      <td>4.644729e-03</td>\n",
              "      <td>24218.0</td>\n",
              "      <td>10852.0</td>\n",
              "      <td>...</td>\n",
              "      <td>595.0</td>\n",
              "      <td>604.0</td>\n",
              "      <td>114744021.0</td>\n",
              "      <td>177170927.0</td>\n",
              "      <td>23.0</td>\n",
              "      <td>47.0</td>\n",
              "      <td>2.998580e+11</td>\n",
              "      <td>-1.541070e+06</td>\n",
              "      <td>-8.421552e+05</td>\n",
              "      <td>-0.033499</td>\n",
              "    </tr>\n",
              "  </tbody>\n",
              "</table>\n",
              "<p>331975 rows × 33 columns</p>\n",
              "</div>"
            ],
            "text/plain": [
              "                                 R1_X    R2_X     R1V_X     R2V_X  RVW_ema_X  \\\n",
              "bar_time                                                                       \n",
              "2021-01-01 00:08:29.527000064 -0.0030 -0.0045 -0.001845 -0.001680  -0.000011   \n",
              "2021-01-01 00:10:31.216999936 -0.0015 -0.0045 -0.002682 -0.004527  -0.000027   \n",
              "2021-01-01 00:12:11.052999936 -0.0005 -0.0020 -0.000136 -0.002818  -0.000022   \n",
              "2021-01-01 00:13:57.256000000 -0.0015 -0.0020 -0.001514 -0.001650  -0.000029   \n",
              "2021-01-01 00:14:38.403000064  0.0000 -0.0015 -0.000576 -0.002090  -0.000029   \n",
              "...                               ...     ...       ...       ...        ...   \n",
              "2021-10-31 23:31:11.516000000  0.0550  0.1020 -0.010221  0.169374   0.003239   \n",
              "2021-10-31 23:33:05.256000000 -0.2890 -0.2340 -0.126319 -0.136540   0.001812   \n",
              "2021-10-31 23:37:08.680000000 -0.0210 -0.3100 -0.122541 -0.248860   0.000538   \n",
              "2021-10-31 23:42:08.324000000 -0.0740 -0.0950 -0.070962 -0.193503  -0.000157   \n",
              "2021-10-31 23:47:08.182000128 -0.1220 -0.1960 -0.068636 -0.139598  -0.000774   \n",
              "\n",
              "                                 RVW_ema2_X    RVW_ema3_X    RVW_ema4_X  \\\n",
              "bar_time                                                                  \n",
              "2021-01-01 00:08:29.527000064 -2.483437e-07 -1.228053e-07 -6.103497e-08   \n",
              "2021-01-01 00:10:31.216999936 -8.254209e-07 -4.088907e-07 -2.033400e-07   \n",
              "2021-01-01 00:12:11.052999936 -1.172062e-06 -5.868994e-07 -2.933055e-07   \n",
              "2021-01-01 00:13:57.256000000 -1.677101e-06 -8.428833e-07 -4.218354e-07   \n",
              "2021-01-01 00:14:38.403000064 -2.124709e-06 -1.074820e-06 -5.393670e-07   \n",
              "...                                     ...           ...           ...   \n",
              "2021-10-31 23:31:11.516000000  1.845142e-03  3.325958e-03  4.610121e-03   \n",
              "2021-10-31 23:33:05.256000000  1.847150e-03  3.334820e-03  4.636623e-03   \n",
              "2021-10-31 23:37:08.680000000  1.792662e-03  3.314400e-03  4.648150e-03   \n",
              "2021-10-31 23:42:08.324000000  1.709697e-03  3.277374e-03  4.650674e-03   \n",
              "2021-10-31 23:47:08.182000128  1.602962e-03  3.225307e-03  4.644729e-03   \n",
              "\n",
              "                               BEST_BID_VOL_X  BEST_ASK_VOL_X  ...  \\\n",
              "bar_time                                                       ...   \n",
              "2021-01-01 00:08:29.527000064         96024.0       1034125.0  ...   \n",
              "2021-01-01 00:10:31.216999936         25436.0         35278.0  ...   \n",
              "2021-01-01 00:12:11.052999936        316022.0        308006.0  ...   \n",
              "2021-01-01 00:13:57.256000000        129193.0         14986.0  ...   \n",
              "2021-01-01 00:14:38.403000064         18062.0         13132.0  ...   \n",
              "...                                       ...             ...  ...   \n",
              "2021-10-31 23:31:11.516000000           172.0          3010.0  ...   \n",
              "2021-10-31 23:33:05.256000000          1200.0          7742.0  ...   \n",
              "2021-10-31 23:37:08.680000000           893.0         25707.0  ...   \n",
              "2021-10-31 23:42:08.324000000         73561.0          8280.0  ...   \n",
              "2021-10-31 23:47:08.182000128         24218.0         10852.0  ...   \n",
              "\n",
              "                               BREAK_BEST_DOWN_X  BREAK_BEST_UP_X  \\\n",
              "bar_time                                                            \n",
              "2021-01-01 00:08:29.527000064               45.0             15.0   \n",
              "2021-01-01 00:10:31.216999936               37.0             22.0   \n",
              "2021-01-01 00:12:11.052999936               36.0             24.0   \n",
              "2021-01-01 00:13:57.256000000               21.0             16.0   \n",
              "2021-01-01 00:14:38.403000064               15.0              9.0   \n",
              "...                                          ...              ...   \n",
              "2021-10-31 23:31:11.516000000              585.0            601.0   \n",
              "2021-10-31 23:33:05.256000000              514.0            425.0   \n",
              "2021-10-31 23:37:08.680000000              545.0            488.0   \n",
              "2021-10-31 23:42:08.324000000              514.0            529.0   \n",
              "2021-10-31 23:47:08.182000128              595.0            604.0   \n",
              "\n",
              "                               ASK_VOLUME_X  BID_VOLUME_X  HOUR_X  MINUTE_X  \\\n",
              "bar_time                                                                      \n",
              "2021-01-01 00:08:29.527000064    43340642.0    51240202.0     0.0       8.0   \n",
              "2021-01-01 00:10:31.216999936    29911119.0    51185141.0     0.0      10.0   \n",
              "2021-01-01 00:12:11.052999936    39424065.0    57641628.0     0.0      12.0   \n",
              "2021-01-01 00:13:57.256000000    25338840.0    48488817.0     0.0      13.0   \n",
              "2021-01-01 00:14:38.403000064    34059783.0    49785095.0     0.0      14.0   \n",
              "...                                     ...           ...     ...       ...   \n",
              "2021-10-31 23:31:11.516000000   111931295.0   174104534.0    23.0      31.0   \n",
              "2021-10-31 23:33:05.256000000   112980066.0   175574376.0    23.0      33.0   \n",
              "2021-10-31 23:37:08.680000000   113225574.0   176129565.0    23.0      37.0   \n",
              "2021-10-31 23:42:08.324000000   114849594.0   176892489.0    23.0      42.0   \n",
              "2021-10-31 23:47:08.182000128   114744021.0   177170927.0    23.0      47.0   \n",
              "\n",
              "                               BAR_DURATION_X   DVOL_EMA3_X  DVOL_EMA10_X  \\\n",
              "bar_time                                                                    \n",
              "2021-01-01 00:08:29.527000064    2.034610e+11 -5.844945e+05 -4.782706e+05   \n",
              "2021-01-01 00:10:31.216999936    1.216900e+11 -1.357189e+06 -1.132426e+06   \n",
              "2021-01-01 00:12:11.052999936    9.983600e+10  9.208057e+04 -8.352982e+04   \n",
              "2021-01-01 00:13:57.256000000    1.062030e+11 -1.997104e+05 -2.577530e+05   \n",
              "2021-01-01 00:14:38.403000064    4.114700e+10  8.415264e+04 -5.550947e+04   \n",
              "...                                       ...           ...           ...   \n",
              "2021-10-31 23:31:11.516000000    1.970200e+11 -1.934503e+05 -3.719447e+05   \n",
              "2021-10-31 23:33:05.256000000    1.137400e+11 -9.848338e+05 -6.168830e+05   \n",
              "2021-10-31 23:37:08.680000000    2.434240e+11 -5.991347e+05 -5.163215e+05   \n",
              "2021-10-31 23:42:08.324000000    2.996440e+11 -8.058947e+05 -5.889838e+05   \n",
              "2021-10-31 23:47:08.182000128    2.998580e+11 -1.541070e+06 -8.421552e+05   \n",
              "\n",
              "                                  OIR_X  \n",
              "bar_time                                 \n",
              "2021-01-01 00:08:29.527000064 -0.311013  \n",
              "2021-01-01 00:10:31.216999936  0.222185  \n",
              "2021-01-01 00:12:11.052999936 -0.207790  \n",
              "2021-01-01 00:13:57.256000000 -0.619399  \n",
              "2021-01-01 00:14:38.403000064  0.335725  \n",
              "...                                 ...  \n",
              "2021-10-31 23:31:11.516000000 -0.190668  \n",
              "2021-10-31 23:33:05.256000000  0.047111  \n",
              "2021-10-31 23:37:08.680000000  0.038583  \n",
              "2021-10-31 23:42:08.324000000 -0.062628  \n",
              "2021-10-31 23:47:08.182000128 -0.033499  \n",
              "\n",
              "[331975 rows x 33 columns]"
            ]
          },
          "execution_count": 10,
          "metadata": {},
          "output_type": "execute_result"
        }
      ],
      "source": [
        "X_mmf"
      ]
    },
    {
      "cell_type": "markdown",
      "metadata": {
        "id": "LZCPTk9U5TeC"
      },
      "source": [
        "---"
      ]
    },
    {
      "cell_type": "markdown",
      "metadata": {
        "id": "txCy-lCR5TeD"
      },
      "source": [
        "Splitting train / test , 70/30 \\\n",
        "Transfrom train and test features to quantiles"
      ]
    },
    {
      "cell_type": "code",
      "execution_count": 10,
      "metadata": {
        "id": "7Lk-yumr5TeF"
      },
      "outputs": [],
      "source": [
        "n_features = X_mmf.shape[1]\n",
        "X_train,X_test, y_train,y_test = train_test_split(X_mmf,y_regr,test_size=0.3,shuffle=False)\n",
        "\n",
        "qt = QuantileTransformer()\n",
        "X_train = qt.fit_transform(X_train)\n",
        "X_test = qt.transform(X_test)"
      ]
    },
    {
      "cell_type": "code",
      "execution_count": null,
      "metadata": {},
      "outputs": [],
      "source": [
        "from torch_geometric.data import InMemoryDataset\n",
        "from tqdm import tqdm\n",
        "\n",
        "class GraphData(InMemoryDataset):\n",
        "    def __init__(self, root, transform=None, pre_transform=None, pre_filter=None):\n",
        "        super().__init__(root, transform, pre_transform, pre_filter)\n",
        "        self.data, self.slices = torch.load(self.processed_paths[0])\n",
        "\n",
        "    @property\n",
        "    def processed_file_names(self):\n",
        "        return ['data.pt']\n",
        "\n",
        "    def process(self):\n",
        "        \n",
        "        dfs, y = self.make_features_df(data_)     \n",
        "        data_list = []\n",
        "        idx = data_.shape[0]\n",
        "\n",
        "        for i in tqdm(range(idx)):\n",
        "            _ = pd.DataFrame()\n",
        "            \n",
        "            for j in range(len(dfs)):\n",
        "                _[j] = dfs[j].iloc[i]\n",
        "                \n",
        "            y_ = y.iloc[i]\n",
        "\n",
        "            x = torch.tensor(_.to_numpy(), dtype=torch.float).to(device)\n",
        "            y_ = torch.tensor(y_.to_numpy(), dtype=torch.float).to(device)\n",
        "\n",
        "            graph = Data(x=x, edge_index=edge_index,  y=y_)\n",
        "            data_list.append(graph)       \n",
        "            \n",
        "\n",
        "        if self.pre_filter is not None:\n",
        "            data_list = [data for data in data_list if self.pre_filter(data)]\n",
        "\n",
        "        if self.pre_transform is not None:\n",
        "            data_list = [self.pre_transform(data) for data in data_list]\n",
        "\n",
        "        data, slices = self.collate(data_list)\n",
        "        torch.save((data, slices), self.processed_paths[0])\n",
        "\n",
        "        \n",
        "    def make_features_df(self, data_):\n",
        "        pass"
      ]
    },
    {
      "cell_type": "code",
      "execution_count": 29,
      "metadata": {},
      "outputs": [],
      "source": [
        "from torch_geometric.nn import GCNConv\n",
        "\n",
        "class GCN(torch.nn.Module):\n",
        "    def __init__(self, hid_size1, hid_size2):\n",
        "        super().__init__()\n",
        "        self.linear1 = nn.Linear(in_features=dataset.num_node_features, out_features=hid_size1)\n",
        "        self.conv1 = GCNConv(in_channels=hid_size1, out_channels=hid_size2)\n",
        "        self.linear2 = nn.Linear(in_features=hid_size2, out_features=1)\n",
        "\n",
        "    def forward(self, data):\n",
        "        x, edge_index = data.x, data.edge_index\n",
        "        \n",
        "        x = self.linear1(x)\n",
        "        x = torch.tanh(x)\n",
        "\n",
        "        x = self.conv1(x, edge_index)\n",
        "        \n",
        "        x = self.linear2(x)\n",
        "\n",
        "        # return torch.tanh(x)\n",
        "        return x"
      ]
    },
    {
      "cell_type": "markdown",
      "metadata": {
        "id": "mZOWcsfA5TeG"
      },
      "source": [
        "---"
      ]
    },
    {
      "cell_type": "markdown",
      "metadata": {
        "id": "ZWwvr2Wn5TeG"
      },
      "source": [
        "# CatBoost regressor"
      ]
    },
    {
      "cell_type": "markdown",
      "metadata": {
        "id": "6HHCPK2W5TeG"
      },
      "source": [
        "We will use it as benchmark, i.e. compare our LSTM result with catboost result"
      ]
    },
    {
      "cell_type": "code",
      "execution_count": 11,
      "metadata": {
        "id": "5bRRztzR5TeH"
      },
      "outputs": [],
      "source": [
        "cb_regressor = catboost.CatBoostRegressor(depth=8)\n",
        "cb_regressor.fit(X_train,y_train,silent=True)\n",
        "\n",
        "y_train_pred_cb = cb_regressor.predict(X_train)\n",
        "y_test_pred_cb = cb_regressor.predict(X_test)\n",
        "\n",
        "cb_mse_error_train = metrics.mean_squared_error(y_train,y_train_pred_cb)\n",
        "cb_mse_error_test  = metrics.mean_squared_error(y_test,y_test_pred_cb)"
      ]
    },
    {
      "cell_type": "markdown",
      "metadata": {
        "id": "frBly40M5TeH"
      },
      "source": [
        "---"
      ]
    },
    {
      "cell_type": "markdown",
      "metadata": {
        "id": "nt3RejbW5TeI"
      },
      "source": [
        "# Define dataset"
      ]
    },
    {
      "cell_type": "markdown",
      "metadata": {
        "id": "72dNf_Gi5TeI"
      },
      "source": [
        "MMF stands for Market Microstructure Features"
      ]
    },
    {
      "cell_type": "code",
      "execution_count": 12,
      "metadata": {
        "id": "YUh5y0Qp5TeI"
      },
      "outputs": [],
      "source": [
        "# good idea to store all hyperparameters and experiment settings in a dedicated dictionary\n",
        "# this way you can store the dictionary in wandb and compare all the settings between several experiments\n",
        "\n",
        "mmf_params = dict(\n",
        "    hid_size1 = 128,\n",
        "    hid_size2 = 16,\n",
        "    batch_size = 128,\n",
        "    learning_rate = 1e-04,\n",
        "    episode_len = 128,\n",
        "    lstm_warm_up = 32\n",
        ")"
      ]
    },
    {
      "cell_type": "code",
      "execution_count": 13,
      "metadata": {
        "id": "Sgv__Jzc5TeJ"
      },
      "outputs": [],
      "source": [
        "# to properly pass our data to LSTM, we need to define how we will iterate through the dataset\n",
        "# to do that, we define a custom class derived from torch.utils.data.Dataset, and overwrite its __len__ and __getitem__ methods\n",
        "# these methods allow the dataset to be iterated in a way we need\n",
        "\n",
        "MMF_Episode = namedtuple('MMF_Episode', ['features', 'targets'])\n",
        "\n",
        "class MMF_Set(torch.utils.data.Dataset):\n",
        "    def __init__(self,X,y,episode_len):\n",
        "        super().__init__()\n",
        "        \n",
        "        self.feature_t =  torch.tensor(X, dtype=torch.float32, device=device) # transform X to tensor of type float32 and convert it to DEVICE\n",
        "        self.target_t  =  torch.tensor(y, dtype=torch.float32, device=device) # transform y to tensor of type float32 and convert it to DEVICE\n",
        "        self.n_ticks, self.n_features = X.shape\n",
        "        self.episode_len = episode_len\n",
        "\n",
        "    def __len__(self):\n",
        "        return self.n_ticks-self.episode_len+1\n",
        "    \n",
        "    # get i-th \"rolling window\"\n",
        "    def __getitem__(self,i):\n",
        "        return MMF_Episode(\n",
        "            features = self.feature_t[i:i+self.episode_len] , # get the slice of feature_t tensor from i to i+episode_len\n",
        "            targets =  self.target_t[i:i+self.episode_len] , # get the slice of target_t tensor from i to i+episode_len\n",
        "        )"
      ]
    },
    {
      "cell_type": "code",
      "execution_count": 14,
      "metadata": {
        "id": "uWXS-uP95TeJ"
      },
      "outputs": [],
      "source": [
        "mmf_train_feature_set = MMF_Set(X_train.copy(),pd.DataFrame(y_train).values,episode_len=mmf_params['episode_len'])"
      ]
    },
    {
      "cell_type": "markdown",
      "metadata": {
        "id": "4xck4vZ55TeK"
      },
      "source": [
        "For debugging purposes"
      ]
    },
    {
      "cell_type": "code",
      "execution_count": 15,
      "metadata": {
        "colab": {
          "base_uri": "https://localhost:8080/"
        },
        "id": "JR4QMf7a5TeK",
        "outputId": "b06a7dbe-398d-4690-a825-5b10ed41c374"
      },
      "outputs": [
        {
          "data": {
            "text/plain": [
              "(torch.Size([20, 128, 33]), torch.Size([20, 128, 1]))"
            ]
          },
          "execution_count": 15,
          "metadata": {},
          "output_type": "execute_result"
        }
      ],
      "source": [
        "# torch format of the dataset\n",
        "# splitting to batches\n",
        "mmf_train_feature_set_t = torch.utils.data.DataLoader(mmf_train_feature_set,batch_size=20,shuffle=True,num_workers=0)\n",
        "\n",
        "mmf_item = next(iter(mmf_train_feature_set_t))\n",
        "\n",
        "# make sure this output is [n_batches, n_episodes, n_features], [n_batches, n_episodes, 1]\n",
        "mmf_item.features.shape, mmf_item.targets.shape"
      ]
    },
    {
      "cell_type": "markdown",
      "metadata": {
        "id": "-P5ToloI5TeL"
      },
      "source": [
        "---"
      ]
    },
    {
      "cell_type": "markdown",
      "metadata": {
        "id": "eMAti0zb5TeL"
      },
      "source": [
        "# Transforming data to torch-compatible format"
      ]
    },
    {
      "cell_type": "markdown",
      "metadata": {
        "id": "10QyU7I15TeL"
      },
      "source": [
        "we have to do this, because any nn.Module accepts only torch tensors as input"
      ]
    },
    {
      "cell_type": "code",
      "execution_count": 16,
      "metadata": {
        "id": "va6AQAza5TeM"
      },
      "outputs": [],
      "source": [
        "X_train_t = torch.tensor(X_train, dtype=torch.float32) # transform X_train to tensor of type float32\n",
        "X_test_t  = torch.tensor(X_test, dtype=torch.float32) # transform X_test to tensor of type float32\n",
        "\n",
        "y_train_t = torch.tensor(y_train.values, dtype=torch.float32) # transform y_train of size [n] to tensor of type float32 and shape [n,1]\n",
        "y_test_t  = torch.tensor(y_test.values, dtype=torch.float32) # transform y_test of size [n] to tensor of type float32 and shape [n,1]"
      ]
    },
    {
      "cell_type": "code",
      "execution_count": 17,
      "metadata": {
        "colab": {
          "base_uri": "https://localhost:8080/"
        },
        "id": "Fr3y34wg5TeM",
        "outputId": "54d31094-292c-475f-d686-377e711d55c0"
      },
      "outputs": [
        {
          "data": {
            "text/plain": [
              "(torch.Size([232382, 33]), torch.Size([99593, 33]))"
            ]
          },
          "execution_count": 17,
          "metadata": {},
          "output_type": "execute_result"
        }
      ],
      "source": [
        "X_train_t.shape, X_test_t.shape"
      ]
    },
    {
      "cell_type": "markdown",
      "metadata": {
        "id": "P9m9s0dI5TeM"
      },
      "source": [
        "---"
      ]
    },
    {
      "cell_type": "markdown",
      "metadata": {
        "id": "ByYNQRVI5TeM"
      },
      "source": [
        "# Network definition"
      ]
    },
    {
      "cell_type": "code",
      "execution_count": 18,
      "metadata": {
        "id": "ERyeMNtI5TeN"
      },
      "outputs": [],
      "source": [
        "class MMF_LSTM(nn.Module):\n",
        "    def __init__(self,input_size,hid_size1,hid_size2):\n",
        "        super().__init__()\n",
        "        \n",
        "        self.lstm = nn.LSTM(input_size = input_size, hidden_size = hid_size1) # initialize a nn.LSTM object dealing with batches of input_size = input_size and hidden_size = hid_size1\n",
        "        \n",
        "        # the following part is in general of your own freedom of choice\n",
        "        # instead of what we propose, you may use just one linear transformation hid_size1 -> 1\n",
        "        \n",
        "        self.hid_to_hll = nn.Linear(in_features=hid_size1, out_features=hid_size2) # initialize linear transformation with #{input features} = hid_size1 and #{output_features} = hid_size2\n",
        "        self.hll_to_out = nn.Linear(in_features=hid_size2, out_features=1) # initialize linear transformation with #{input features} = hid_size2 and #{output features} = 1\n",
        "    \n",
        "    def forward(self,x):\n",
        "        # the forward pass has to be as follows:\n",
        "        # lstm -> first linear layer -> ReLU -> second linear layer\n",
        "        \n",
        "        x, _ = self.lstm(x) # get result of lstm network defined in constructor\n",
        "        x = self.hid_to_hll(x)\n",
        "        x = F.relu(x)\n",
        "        output = self.hll_to_out(x)\n",
        "\n",
        "        return output "
      ]
    },
    {
      "cell_type": "markdown",
      "metadata": {
        "id": "_huvjjW15TeN"
      },
      "source": [
        "---"
      ]
    },
    {
      "cell_type": "markdown",
      "metadata": {
        "id": "qUkSmlJT5TeN"
      },
      "source": [
        "# Main train loop"
      ]
    },
    {
      "cell_type": "code",
      "execution_count": 19,
      "metadata": {
        "id": "gSo1LQSs5TeN"
      },
      "outputs": [],
      "source": [
        "mmf_lstm_model = MMF_LSTM(input_size=n_features, hid_size1=mmf_params['hid_size1'], hid_size2=mmf_params['hid_size2']) # define LSTM object of our custom class with input size = n_features (variable from cell [7]) and hidden sizes from mmf_params\n",
        "mmf_loss_fn = nn.MSELoss() # define a criterion - mean squared error\n",
        "mmf_optimizer = torch.optim.Adam(params=mmf_lstm_model.parameters(), lr=mmf_params['learning_rate']) # define Adam optimizer receiving mmf_lst_model parameters and learning rate defined in mmf_params\n",
        "\n",
        "mmf_activation_fn = torch.tanh # define activation function - hyperbolic tangent\n",
        "mmf_warm_up = mmf_params['lstm_warm_up'] # define a warm-up window to start training the model, from mmf_params"
      ]
    },
    {
      "cell_type": "code",
      "execution_count": 20,
      "metadata": {
        "id": "UDtkhSF75TeO"
      },
      "outputs": [],
      "source": [
        "# lists to store performance metrics of the learning\n",
        "\n",
        "train_loss_history = []\n",
        "max_gradient_history = []\n",
        "mse_train_history = []\n",
        "mse_test_history = []"
      ]
    },
    {
      "cell_type": "code",
      "execution_count": 21,
      "metadata": {
        "colab": {
          "base_uri": "https://localhost:8080/"
        },
        "id": "4QjD4dKf5TeO",
        "outputId": "02124a68-a228-4b63-9c98-da0c1d064b6c"
      },
      "outputs": [
        {
          "data": {
            "text/plain": [
              "<__main__.MMF_Set at 0x7fb310485550>"
            ]
          },
          "execution_count": 21,
          "metadata": {},
          "output_type": "execute_result"
        }
      ],
      "source": [
        "mmf_train_feature_set"
      ]
    },
    {
      "cell_type": "code",
      "execution_count": 22,
      "metadata": {
        "colab": {
          "base_uri": "https://localhost:8080/",
          "height": 478
        },
        "id": "y2mOLWpq5TeP",
        "outputId": "79525163-e079-47f9-f24a-f851b369f047"
      },
      "outputs": [
        {
          "data": {
            "image/png": "[encoded data removed]",
            "text/plain": [
              "<Figure size 1800x576 with 2 Axes>"
            ]
          },
          "metadata": {
            "needs_background": "light"
          },
          "output_type": "display_data"
        },
        {
          "name": "stderr",
          "output_type": "stream",
          "text": [
            "100%|██████████| 1815/1815 [20:28<00:00,  1.48it/s]\n"
          ]
        }
      ],
      "source": [
        "for epoch in range(10): # you may vary it, or think out of some stop criterion\n",
        "    mmf_train_feature_set_t = torch.utils.data.DataLoader(mmf_train_feature_set,batch_size=mmf_params['batch_size'],shuffle=True,num_workers=0)\n",
        "    try:\n",
        "        with tqdm(mmf_train_feature_set_t) as progressbar:\n",
        "            for mmf_episode in progressbar:\n",
        "                predicted_return = mmf_lstm_model(mmf_episode[0])  # get mmf_lstm_model prediction calculated on the current episode features\n",
        "                #print(mmf_episode[0].shape, mmf_episode[1].shape, type(mmf_episode), predicted_return.shape)\n",
        "                train_loss = mmf_loss_fn(input=predicted_return, target=mmf_episode[1]) # calculate loss between actual and predicted values. please ignore the starting warm-up window in loss calculation\n",
        "                train_loss_history.append(train_loss.item()) # store the loss of the current episode\n",
        "                mmf_optimizer.zero_grad() # set the gradients of all optimized tensors to zero\n",
        "                train_loss.backward() # backward propagation\n",
        "                mmf_optimizer.step() # take an optimization step\n",
        "\n",
        "                # it is in general a good idea to monitor max gradient and to be able to clip if necessary it using:\n",
        "                # nn.utils.clip_grad_value_(mmf_lstm_model.parameters(), clip_value=1.0)\n",
        "                max_gradient_history.append( np.max([torch.max(p.grad).item() for p in mmf_lstm_model.parameters() if p.grad is not None]) )\n",
        "\n",
        "                if len(train_loss_history) % 50 == 0:\n",
        "                    mmf_lstm_model.train(False) # disable learning mode\n",
        "\n",
        "                    mse_train_history.append( mmf_loss_fn(mmf_activation_fn(mmf_lstm_model(X_train_t)),y_train_t).item() ) # losses calculcated on the whole history /\n",
        "                    mse_test_history.append( mmf_loss_fn(mmf_activation_fn(mmf_lstm_model(X_test_t)),y_test_t).item() )    # unlike row #8 where the current episode only\n",
        "\n",
        "                    mmf_lstm_model.train(True) # enable learning mode\n",
        "\n",
        "                    clear_output(True)\n",
        "\n",
        "                    fgs,axs = plt.subplots(1,2, figsize=[25,8])\n",
        "\n",
        "                    axs[1].plot(max_gradient_history, label='max grad')\n",
        "                    axs[1].legend(loc='best')\n",
        "                    axs[1].grid()\n",
        "\n",
        "                    axs[0].plot(mse_train_history, label='train loss', color='blue')\n",
        "                    axs[0].plot(mse_test_history, label='test loss', color='red')\n",
        "                    axs[0].set_yscale('log')\n",
        "                    axs[0].yaxis.set_major_formatter(plt.LogFormatter())\n",
        "                    axs[0].yaxis.set_minor_formatter(plt.LogFormatter())\n",
        "                    axs[0].axhline(y=cb_mse_error_test, color='red', linestyle='--', alpha=0.8, label='catboost test loss')\n",
        "                    axs[0].axhline(y=cb_mse_error_train, color='blue', linestyle='--', alpha=0.8, label='catboost train loss')\n",
        "                    axs[0].legend(loc='best')\n",
        "\n",
        "                    plt.show()\n",
        "    except KeyboardInterrupt:\n",
        "        pass"
      ]
    },
    {
      "cell_type": "code",
      "execution_count": null,
      "metadata": {
        "id": "MTvCOiUm5TeP"
      },
      "outputs": [],
      "source": []
    }
  ],
  "metadata": {
    "colab": {
      "collapsed_sections": [],
      "provenance": []
    },
    "kernelspec": {
      "display_name": "Python 3.8.6 64-bit",
      "language": "python",
      "name": "python3"
    },
    "language_info": {
      "codemirror_mode": {
        "name": "ipython",
        "version": 3
      },
      "file_extension": ".py",
      "mimetype": "text/x-python",
      "name": "python",
      "nbconvert_exporter": "python",
      "pygments_lexer": "ipython3",
      "version": "3.9.12"
    },
    "vscode": {
      "interpreter": {
        "hash": "a4868653bb6f8972e87e4c446ab8a445a15b25dedb8594cc74c480f8152ea86a"
      }
    }
  },
  "nbformat": 4,
  "nbformat_minor": 0
}
